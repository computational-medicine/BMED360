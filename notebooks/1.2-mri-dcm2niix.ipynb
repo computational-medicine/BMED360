{
 "cells": [
  {
   "cell_type": "markdown",
   "metadata": {},
   "source": [
    "\n",
    "Copyright (c) 2019 Computational-Medicine\n",
    "\n",
    "# Convert DICOMs to NIFTI using dcm2niix\n",
    "\n",
    "dcm2niix is a designed to convert neuroimaging data from the DICOM format to the NIfTI format.\n",
    "\n",
    "This software should run on macOS, Linux and Windows typically without requiring any other software. However, if you use dcm2niix to create gz-compressed images it will be faster if you have pigz installed. You can get a version of both dcm2niix and [pigz](https://github.com/madler/pigz) compiled for your operating system by downloading [MRIcroGL](https://github.com/rordenlab/MRIcroGL12/releases). There is also an optional [batch processing version](https://github.com/rordenlab/dcm2niix/blob/master/BATCH.md) of dcm2niix.\n",
    "\n",
    "\n",
    "### Install\n",
    "\n",
    "There are a couple ways to install dcm2niix\n",
    "\n",
    " - [Github Releases](https://github.com/rordenlab/dcm2niix/releases) provides the latest compiled executables. This is an excellent option for MacOS and Windows users. However, the provided Linux executable requires a recent version of Linux, so the provided Unix executable is not suitable for all distributions.\n",
    " - [MRIcroGL](https://github.com/rordenlab/MRIcroGL12/releases) includes dcm2niix that can be run from the command line or from the graphical user interface (select the Import menu item). The Linux version of dcm2niix is compiled on a holy build box, so it should run on any Linux distribution.\n",
    " - If you have a MacOS computer with Homebrew you can run brew install dcm2niix.\n",
    " - If you have Conda, `conda install -c conda-forge dcm2niix` on Linux, MacOS or Windows (may be not the latest version)\n",
    " - On Debian Linux computers you can run sudo apt-get install dcm2niix.\n"
   ]
  },
  {
   "cell_type": "code",
   "execution_count": 112,
   "metadata": {},
   "outputs": [],
   "source": [
    "%matplotlib inline"
   ]
  },
  {
   "cell_type": "code",
   "execution_count": 113,
   "metadata": {},
   "outputs": [],
   "source": [
    "import os\n",
    "import pathlib\n",
    "import pandas as pd\n",
    "import numpy as np\n",
    "home = os.path.expanduser('~')  # To make path to local home directory\n",
    "\n",
    "# We assume you have made a directory ~/prj/BMED360/data"
   ]
  },
  {
   "cell_type": "markdown",
   "metadata": {},
   "source": [
    "### Download zipped DICOM data from a Google Drive\n",
    "\n",
    "https://drive.google.com/file/d/1S-Og-5-T8N8wxfqR4hm2bFrP0pEsaliN/view?usp=sharing"
   ]
  },
  {
   "cell_type": "code",
   "execution_count": 114,
   "metadata": {},
   "outputs": [],
   "source": [
    "# https://github.com/nsadawi/Download-Large-File-From-Google-Drive-Using-Python/blob/master/Download-Large-File-from-Google-Drive.ipynb\n",
    "\n",
    "# taken from this StackOverflow answer: https://stackoverflow.com/a/39225039\n",
    "import requests\n",
    "\n",
    "def download_file_from_google_drive(id, destination):\n",
    "    URL = \"https://docs.google.com/uc?export=download\"\n",
    "\n",
    "    session = requests.Session()\n",
    "\n",
    "    response = session.get(URL, params = { 'id' : id }, stream = True)\n",
    "    token = get_confirm_token(response)\n",
    "\n",
    "    if token:\n",
    "        params = { 'id' : id, 'confirm' : token }\n",
    "        response = session.get(URL, params = params, stream = True)\n",
    "\n",
    "    save_response_content(response, destination)    \n",
    "\n",
    "def get_confirm_token(response):\n",
    "    for key, value in response.cookies.items():\n",
    "        if key.startswith('download_warning'):\n",
    "            return value\n",
    "\n",
    "    return None\n",
    "\n",
    "def save_response_content(response, destination):\n",
    "    CHUNK_SIZE = 32768\n",
    "\n",
    "    with open(destination, \"wb\") as f:\n",
    "        for chunk in response.iter_content(CHUNK_SIZE):\n",
    "            if chunk: # filter out keep-alive new chunks\n",
    "                f.write(chunk)"
   ]
  },
  {
   "cell_type": "code",
   "execution_count": 115,
   "metadata": {},
   "outputs": [],
   "source": [
    "file_id = '1S-Og-5-T8N8wxfqR4hm2bFrP0pEsaliN'\n",
    "subj_id = 'lg_prisma_20160218'\n",
    "destination = '%s/prj/BMED360/data/%s.zip' % (home, subj_id)\n",
    "#download_file_from_google_drive(file_id, destination)"
   ]
  },
  {
   "cell_type": "markdown",
   "metadata": {},
   "source": [
    "### Unzip DICOM files to a target directory\n",
    "\n",
    "https://stackoverflow.com/questions/3451111/unzipping-files-in-python"
   ]
  },
  {
   "cell_type": "code",
   "execution_count": 116,
   "metadata": {},
   "outputs": [],
   "source": [
    "from zipfile import ZipFile\n",
    "\n",
    "path_to_extract_folder = '%s/prj/BMED360/data' % (home)\n",
    "#zf = ZipFile(destination, 'r')\n",
    "#zf.extractall(path_to_extract_folder)\n",
    "#zf.close()"
   ]
  },
  {
   "cell_type": "code",
   "execution_count": 117,
   "metadata": {},
   "outputs": [
    {
     "name": "stdout",
     "output_type": "stream",
     "text": [
      "Folder PATH listing for volume Local Disk\n",
      "Volume serial number is 82A6-EE0C\n",
      "C:\\USERS\\ARVID\\PRJ\\BMED360\\DATA\n",
      "\\---lg_prisma_20160218\n",
      "    +---dicom\n",
      "    \\---nifti\n",
      "\n"
     ]
    }
   ],
   "source": [
    "#!tree path_to_extract_folder /f /a\n",
    "cmd = 'tree %s /a' % (path_to_extract_folder)\n",
    "print(os.popen(cmd).read())"
   ]
  },
  {
   "cell_type": "markdown",
   "metadata": {},
   "source": [
    "## dcm2niix\n",
    "\n",
    "https://github.com/rordenlab/dcm2niix\n",
    "\n",
    "git clone git@github.com:rordenlab/dcm2niix.git\n",
    "\n",
    "https://www.nitrc.org/plugins/mwiki/index.php/dcm2nii:MainPage\n",
    "\n",
    "conda install -c conda-forge dcm2niix\n",
    "\n",
    "Download: https://github.com/rordenlab/dcm2niix <br>\n",
    "Usage: https://www.nitrc.org/plugins/mwiki/index.php/dcm2nii:MainPage#General_Usage"
   ]
  },
  {
   "cell_type": "code",
   "execution_count": 118,
   "metadata": {},
   "outputs": [
    {
     "name": "stdout",
     "output_type": "stream",
     "text": [
      "Compression will be faster with pigz.exe in the same folder as the executable\n",
      "Chris Rorden's dcm2niiX version v1.0.20190410  (JP2:OpenJPEG) (JP-LS:CharLS) MSC1900 (64-bit Windows)\n",
      "usage: dcm2niix.exe [options] <in_folder>\n",
      " Options :\n",
      "  -1..-9 : gz compression level (1=fastest..9=smallest, default 6)\n",
      "  -a : adjacent DICOMs (images from same series always in same folder) for faster conversion (n/y, default n)\n",
      "  -b : BIDS sidecar (y/n/o [o=only: no NIfTI], default y)\n",
      "   -ba : anonymize BIDS (y/n, default y)\n",
      "  -c : comment stored in NIfTI aux_file (provide up to 24 characters)\n",
      "  -d : directory search depth. Convert DICOMs in sub-folders of in_folder? (0..9, default 5)\n",
      "  -e : export as NRRD instead of NIfTI (y/n, default n)\n",
      "  -f : filename (%a=antenna (coil) name, %b=basename, %c=comments, %d=description, %e=echo number, %f=folder name, %i=ID of patient, %j=seriesInstanceUID, %k=studyInstanceUID, %m=manufacturer, %n=name of patient, %p=protocol, %r=instance number, %s=series number, %t=time, %u=acquisition number, %v=vendor, %x=study ID; %z=sequence name; default '%t_%p_%s')\n",
      "  -g : generate defaults file (y/n/o/i [o=only: reset and write defaults; i=ignore: reset defaults], default n)\n",
      "  -h : show help\n",
      "  -i : ignore derived, localizer and 2D images (y/n, default n)\n",
      "  -l : losslessly scale 16-bit integers to use dynamic range (y/n, default n)\n",
      "  -m : merge 2D slices from same series regardless of study time, echo, coil, orientation, etc. (y/n, default n)\n",
      "  -n : only convert this series number - can be used up to 16 times (default convert all)\n",
      "  -o : output directory (omit to save to input folder)\n",
      "  -p : Philips precise float (not display) scaling (y/n, default y)\n",
      "  -r : rename instead of convert DICOMs (y/n, default n)\n",
      "  -s : single file mode, do not convert other images in folder (y/n, default n)\n",
      "  -t : text notes includes private patient details (y/n, default n)\n",
      "  -v : verbose (n/y or 0/1/2 [no, yes, logorrheic], default 0)\n",
      "  -w : write behavior for name conflicts (0,1,2, default 2: 0=skip duplicates, 1=overwrite, 2=add suffix)\n",
      "  -x : crop 3D acquisitions (y/n/i, default n, use 'i'gnore to neither crop nor rotate 3D acquistions)\n",
      "  -z : gz compress images (y/i/n/3, default y) [y=pigz, i=internal:miniz, n=no, 3=no,3D]\n",
      " Defaults stored in Windows registry\n",
      " Examples :\n",
      "  dcm2niix.exe c:\\DICOM\\dir\n",
      "  dcm2niix.exe -c \"my comment\" c:\\DICOM\\dir\n",
      "  dcm2niix.exe -o c:\\out\\dir c:\\DICOM\\dir\n",
      "  dcm2niix.exe -f mystudy%s c:\\DICOM\\dir\n",
      "  dcm2niix.exe -o \"c:\\dir with spaces\\dir\" c:\\dicomdir\n",
      "\n"
     ]
    }
   ],
   "source": [
    "DCMCONVERT = '%s/prj/BMED360/bin/dcm2niix_11-Apr-2019_win/dcm2niix.exe' % (home)\n",
    "print(os.popen(DCMCONVERT).read())"
   ]
  },
  {
   "cell_type": "code",
   "execution_count": 119,
   "metadata": {},
   "outputs": [],
   "source": [
    "subjs = ['lg_prisma_20160218']\n",
    "mydcm = '%s/%s/dicom' % (path_to_extract_folder, subj_id)\n",
    "mynii = '%s/%s/nifti' % (path_to_extract_folder, subj_id)"
   ]
  },
  {
   "cell_type": "code",
   "execution_count": 120,
   "metadata": {},
   "outputs": [],
   "source": [
    "def my_dcm2niix(mydcm, mynii, subj):\n",
    "    for i in range(len(subj)):\n",
    "        s = subj[i]\n",
    "    \n",
    "        # Convert to NIFTI (all sequences)\n",
    "        source_dir = mydcm\n",
    "        output_dir = mynii\n",
    "        pathlib.Path(output_dir).mkdir(parents=True, exist_ok=True)\n",
    "    \n",
    "        # cmd = [\n",
    "        # '/usr/local/bin/dcm2niix',\n",
    "        # '/home/arvid/anaconda3/bin/dcm2niix',\n",
    "        # 'C:\\\\Users\\\\arvid\\\\Anaconda3\\\\Library\\\\bin\\\\dcm2niix',\n",
    "        # 'C:\\Users\\arvid\\Anaconda3\\Library\\bin\\dcm2niix.exe'\n",
    "        cmd = [\n",
    "            DCMCONVERT,\n",
    "            '-d', '9',\n",
    "            '-b', 'y',\n",
    "            '-m', 'n',\n",
    "            '-s', 'n',\n",
    "            '-t', 'n',\n",
    "            '-x', 'n',\n",
    "            '-z', 'y',\n",
    "            '-i', 'y',\n",
    "            '-f', subj[i]+'_%s_%p_%n_%t',\n",
    "            '-o', output_dir,\n",
    "            source_dir]\n",
    "        #  '-f', '%p_%t_%s',    see help:  dcm2niix -h\n",
    "        cmd_str = \" \".join(cmd)\n",
    "        print('cmd_str = \\n%s\\n' % cmd_str)\n",
    "        #os.system(cmd_str)"
   ]
  },
  {
   "cell_type": "code",
   "execution_count": 121,
   "metadata": {},
   "outputs": [
    {
     "name": "stdout",
     "output_type": "stream",
     "text": [
      "cmd_str = \n",
      "C:\\Users\\arvid/prj/BMED360/bin/dcm2niix_11-Apr-2019_win/dcm2niix.exe -d 9 -b y -m n -s n -t n -x n -z y -i y -f lg_prisma_20160218_%s_%p_%n_%t -o C:\\Users\\arvid/prj/BMED360/data/lg_prisma_20160218/nifti C:\\Users\\arvid/prj/BMED360/data/lg_prisma_20160218/dicom\n",
      "\n"
     ]
    }
   ],
   "source": [
    "my_dcm2niix(mydcm, mynii, subjs)"
   ]
  },
  {
   "cell_type": "code",
   "execution_count": 122,
   "metadata": {},
   "outputs": [
    {
     "name": "stdout",
     "output_type": "stream",
     "text": [
      "Folder PATH listing for volume Local Disk\n",
      "Volume serial number is 82A6-EE0C\n",
      "C:\\USERS\\ARVID\\PRJ\\BMED360\\DATA\\LG_PRISMA_20160218\\NIFTI\n",
      "    lg_prisma_20160218_10_ep2d_bold_moco_p2_3mm_RS_MoCo_fou_160218_Brain-Gut_lg_20160218140906.json\n",
      "    lg_prisma_20160218_10_ep2d_bold_moco_p2_3mm_RS_MoCo_fou_160218_Brain-Gut_lg_20160218140906.nii.gz\n",
      "    lg_prisma_20160218_2_t1_mprage_sag_1mm_fou_160218_Brain-Gut_lg_20160218140906.json\n",
      "    lg_prisma_20160218_2_t1_mprage_sag_1mm_fou_160218_Brain-Gut_lg_20160218140906.nii.gz\n",
      "    lg_prisma_20160218_3_ep2d_diff_qspace_p2_fou_160218_Brain-Gut_lg_20160218140906.bval\n",
      "    lg_prisma_20160218_3_ep2d_diff_qspace_p2_fou_160218_Brain-Gut_lg_20160218140906.bvec\n",
      "    lg_prisma_20160218_3_ep2d_diff_qspace_p2_fou_160218_Brain-Gut_lg_20160218140906.json\n",
      "    lg_prisma_20160218_3_ep2d_diff_qspace_p2_fou_160218_Brain-Gut_lg_20160218140906.nii.gz\n",
      "    lg_prisma_20160218_9_ep2d_bold_moco_p2_3mm_RS_fou_160218_Brain-Gut_lg_20160218140906.json\n",
      "    lg_prisma_20160218_9_ep2d_bold_moco_p2_3mm_RS_fou_160218_Brain-Gut_lg_20160218140906.nii.gz\n",
      "    \n",
      "No subfolders exist \n",
      "\n",
      "\n"
     ]
    }
   ],
   "source": [
    "#!tree path_to_extract_folder /f /a\n",
    "cmd = 'tree %s/%s/nifti /f /a' % (path_to_extract_folder, subj_id)\n",
    "print(os.popen(cmd).read())"
   ]
  },
  {
   "cell_type": "markdown",
   "metadata": {},
   "source": [
    "### T1w"
   ]
  },
  {
   "cell_type": "code",
   "execution_count": 123,
   "metadata": {},
   "outputs": [
    {
     "name": "stdout",
     "output_type": "stream",
     "text": [
      "shutil.copy2(C:\\Users\\arvid/prj/BMED360/data/lg_prisma_20160218/nifti/lg_prisma_20160218_2_t1_mprage_sag_1mm_fou_160218_Brain-Gut_lg_20160218140906.json, ../data/mri/mybids/sub-01/anat/sub-01_T1w.json\n",
      "shutil.copy2(C:\\Users\\arvid/prj/BMED360/data/lg_prisma_20160218/nifti/lg_prisma_20160218_2_t1_mprage_sag_1mm_fou_160218_Brain-Gut_lg_20160218140906.nii.gz, ../data/mri/mybids/sub-01/anat/sub-01_T1w.nii.gz\n"
     ]
    }
   ],
   "source": [
    "import shutil\n",
    "\n",
    "subj = 'sub-01'\n",
    "\n",
    "src_fn = '%s/%s/nifti/lg_prisma_20160218_2_t1_mprage_sag_1mm_fou_160218_Brain-Gut_lg_20160218140906' % ((path_to_extract_folder, subj_id))\n",
    "dest_fn = '../data/mri/mybids/%s/anat/%s_T1w'  % (subj, subj)\n",
    "exts = ['json', 'nii.gz']\n",
    "for ext in exts:\n",
    "    print('shutil.copy2(%s.%s, %s.%s' % (src_fn, ext, dest_fn, ext))\n",
    "    s = '%s.%s' % (src_fn, ext)\n",
    "    d = '%s.%s' % (dest_fn, ext)\n",
    "    shutil.copy2(s, d)"
   ]
  },
  {
   "cell_type": "markdown",
   "metadata": {},
   "source": [
    "### dwi"
   ]
  },
  {
   "cell_type": "code",
   "execution_count": 124,
   "metadata": {},
   "outputs": [
    {
     "name": "stdout",
     "output_type": "stream",
     "text": [
      "shutil.copy2(C:\\Users\\arvid/prj/BMED360/data/lg_prisma_20160218/nifti/lg_prisma_20160218_3_ep2d_diff_qspace_p2_fou_160218_Brain-Gut_lg_20160218140906.bval, ../data/mri/mybids/sub-01/dwi/sub-01_dwi.bval\n",
      "shutil.copy2(C:\\Users\\arvid/prj/BMED360/data/lg_prisma_20160218/nifti/lg_prisma_20160218_3_ep2d_diff_qspace_p2_fou_160218_Brain-Gut_lg_20160218140906.bvec, ../data/mri/mybids/sub-01/dwi/sub-01_dwi.bvec\n",
      "shutil.copy2(C:\\Users\\arvid/prj/BMED360/data/lg_prisma_20160218/nifti/lg_prisma_20160218_3_ep2d_diff_qspace_p2_fou_160218_Brain-Gut_lg_20160218140906.json, ../data/mri/mybids/sub-01/dwi/sub-01_dwi.json\n",
      "shutil.copy2(C:\\Users\\arvid/prj/BMED360/data/lg_prisma_20160218/nifti/lg_prisma_20160218_3_ep2d_diff_qspace_p2_fou_160218_Brain-Gut_lg_20160218140906.nii.gz, ../data/mri/mybids/sub-01/dwi/sub-01_dwi.nii.gz\n"
     ]
    }
   ],
   "source": [
    "src_fn = '%s/%s/nifti/lg_prisma_20160218_3_ep2d_diff_qspace_p2_fou_160218_Brain-Gut_lg_20160218140906' % ((path_to_extract_folder, subj_id))\n",
    "dest_fn = '../data/mri/mybids/%s/dwi/%s_dwi' % (subj, subj)\n",
    "exts = ['bval', 'bvec', 'json', 'nii.gz']\n",
    "for ext in exts:\n",
    "    print('shutil.copy2(%s.%s, %s.%s' % (src_fn, ext, dest_fn, ext))\n",
    "    s = '%s.%s' % (src_fn, ext)\n",
    "    d = '%s.%s' % (dest_fn, ext)\n",
    "    shutil.copy2(s, d)"
   ]
  },
  {
   "cell_type": "markdown",
   "metadata": {},
   "source": [
    "### task-rest_bold"
   ]
  },
  {
   "cell_type": "code",
   "execution_count": 125,
   "metadata": {},
   "outputs": [
    {
     "name": "stdout",
     "output_type": "stream",
     "text": [
      "shutil.copy2(C:\\Users\\arvid/prj/BMED360/data/lg_prisma_20160218/nifti/lg_prisma_20160218_10_ep2d_bold_moco_p2_3mm_RS_MoCo_fou_160218_Brain-Gut_lg_20160218140906.json, ../data/mri/mybids/sub-01/func/sub-01_task-rest_bold.json\n",
      "shutil.copy2(C:\\Users\\arvid/prj/BMED360/data/lg_prisma_20160218/nifti/lg_prisma_20160218_10_ep2d_bold_moco_p2_3mm_RS_MoCo_fou_160218_Brain-Gut_lg_20160218140906.nii.gz, ../data/mri/mybids/sub-01/func/sub-01_task-rest_bold.nii.gz\n"
     ]
    }
   ],
   "source": [
    "src_fn = '%s/%s/nifti/lg_prisma_20160218_10_ep2d_bold_moco_p2_3mm_RS_MoCo_fou_160218_Brain-Gut_lg_20160218140906' % ((path_to_extract_folder, subj_id))\n",
    "dest_fn = '../data/mri/mybids/%s/func/%s_task-rest_bold' % (subj, subj)\n",
    "exts = ['json', 'nii.gz']\n",
    "for ext in exts:\n",
    "    print('shutil.copy2(%s.%s, %s.%s' % (src_fn, ext, dest_fn, ext))\n",
    "    s = '%s.%s' % (src_fn, ext)\n",
    "    d = '%s.%s' % (dest_fn, ext)\n",
    "    shutil.copy2(s, d)"
   ]
  },
  {
   "cell_type": "markdown",
   "metadata": {},
   "source": [
    "### Check and edit som items in the  .json files"
   ]
  },
  {
   "cell_type": "code",
   "execution_count": 126,
   "metadata": {},
   "outputs": [
    {
     "name": "stdout",
     "output_type": "stream",
     "text": [
      "{'AcquisitionMatrixPE': 256,\n",
      " 'AcquisitionNumber': 1,\n",
      " 'AcquisitionTime': '14:10:57.452500',\n",
      " 'BaseResolution': 256,\n",
      " 'BodyPartExamined': 'BRAIN',\n",
      " 'CoilString': 'HE1-4;NE1_2;SP1',\n",
      " 'ConsistencyInfo': 'N4_VD13D_LATEST_20130810',\n",
      " 'ConversionSoftware': 'dcm2niix',\n",
      " 'ConversionSoftwareVersion': 'v1.0.20190410  (JP2:OpenJPEG) (JP-LS:CharLS) '\n",
      "                              'MSC1900',\n",
      " 'DeviceSerialNumber': '66035',\n",
      " 'DwellTime': 9.8e-06,\n",
      " 'EchoTime': 0.00228,\n",
      " 'FlipAngle': 8,\n",
      " 'ImageOrientationPatientDICOM': [-0.00393099,\n",
      "                                  0.999992,\n",
      "                                  7.66697e-09,\n",
      "                                  0.0853443,\n",
      "                                  0.000335498,\n",
      "                                  -0.996351],\n",
      " 'ImageType': ['ORIGINAL', 'PRIMARY', 'M', 'ND', 'NORM'],\n",
      " 'ImagingFrequency': 123.256,\n",
      " 'InPlanePhaseEncodingDirectionDICOM': 'ROW',\n",
      " 'InstitutionAddress': 'Jonas_Lies_vei_65_Bergen_District_NO_5021',\n",
      " 'InstitutionName': 'Haukeland_universitetssjukehus',\n",
      " 'InstitutionalDepartmentName': 'RAB-HBE_HOVEDRONTGEN',\n",
      " 'InversionTime': 0.9,\n",
      " 'MRAcquisitionType': '3D',\n",
      " 'MagneticFieldStrength': 3,\n",
      " 'Manufacturer': 'Siemens',\n",
      " 'ManufacturersModelName': 'Prisma',\n",
      " 'Modality': 'MR',\n",
      " 'PartialFourier': 1,\n",
      " 'PatientPosition': 'HFS',\n",
      " 'PercentPhaseFOV': 100,\n",
      " 'PhaseEncodingSteps': 256,\n",
      " 'PhaseResolution': 1,\n",
      " 'PixelBandwidth': 200,\n",
      " 'ProcedureStepDescription': 'NEVRO_Hode',\n",
      " 'ProtocolName': 't1_mprage_sag_1mm',\n",
      " 'PulseSequenceDetails': '%SiemensSeq%_tfl',\n",
      " 'ReceiveCoilActiveElements': 'HE1-4;NE1,2;SP1',\n",
      " 'ReceiveCoilName': 'Spine_32',\n",
      " 'ReconMatrixPE': 256,\n",
      " 'RepetitionTime': 1.8,\n",
      " 'SAR': 0.100314,\n",
      " 'ScanOptions': 'IR',\n",
      " 'ScanningSequence': 'GR_IR',\n",
      " 'SequenceName': '_tfl3d1_16ns',\n",
      " 'SequenceVariant': 'SK_SP_MP',\n",
      " 'SeriesDescription': 't1_mprage_sag_1mm',\n",
      " 'SeriesNumber': 2,\n",
      " 'ShimSetting': [-4009, -11570, -5715, 107, -18, 23, -19, -10],\n",
      " 'SliceThickness': 1,\n",
      " 'SoftwareVersions': 'syngo_MR_D13D',\n",
      " 'StationName': 'NHBEHRTGP3MR',\n",
      " 'TxRefAmp': 329.808}\n"
     ]
    }
   ],
   "source": [
    "import json\n",
    "from pprint import pprint\n",
    "\n",
    "fn = '../data/mri/mybids/sub-01/anat/sub-01_T1w'+'.json'\n",
    "with open(fn) as data_file:    \n",
    "    data = json.load(data_file)\n",
    "# data.keys()\n",
    "# data.items()\n",
    "pprint(data)"
   ]
  },
  {
   "cell_type": "code",
   "execution_count": 127,
   "metadata": {},
   "outputs": [],
   "source": [
    "# Make some info 'NA'\n",
    "data['InstitutionAddress'] = 'NA'\n",
    "data['InstitutionName'] = 'NA'\n",
    "data['InstitutionalDepartmentName'] = 'NA'\n",
    "with open(fn, 'w') as outfile:\n",
    "    json.dump(data, outfile, sort_keys=True, indent=4)\n",
    "#pprint(data)"
   ]
  },
  {
   "cell_type": "code",
   "execution_count": 128,
   "metadata": {},
   "outputs": [
    {
     "name": "stdout",
     "output_type": "stream",
     "text": [
      "{'AcquisitionMatrixPE': 100,\n",
      " 'AcquisitionNumber': 1,\n",
      " 'AcquisitionTime': '14:21:3.245000',\n",
      " 'BandwidthPerPixelPhaseEncode': 35.714,\n",
      " 'BaseResolution': 100,\n",
      " 'BodyPartExamined': 'BRAIN',\n",
      " 'ConsistencyInfo': 'N4_VD13D_LATEST_20130810',\n",
      " 'ConversionSoftware': 'dcm2niix',\n",
      " 'ConversionSoftwareVersion': 'v1.0.20190410  (JP2:OpenJPEG) (JP-LS:CharLS) '\n",
      "                              'MSC1900',\n",
      " 'DerivedVendorReportedEchoSpacing': 0.000560004,\n",
      " 'DeviceSerialNumber': '66035',\n",
      " 'DiffusionScheme': 'Bipolar',\n",
      " 'DwellTime': 2.4e-06,\n",
      " 'EchoTime': 0.079,\n",
      " 'EchoTrainLength': 43,\n",
      " 'EffectiveEchoSpacing': 0.000280002,\n",
      " 'FlipAngle': 90,\n",
      " 'ImageOrientationPatientDICOM': [0.996788,\n",
      "                                  0.00126201,\n",
      "                                  0.0800744,\n",
      "                                  3.94129e-09,\n",
      "                                  0.999876,\n",
      "                                  -0.0157585],\n",
      " 'ImageType': ['ORIGINAL',\n",
      "               'PRIMARY',\n",
      "               'DIFFUSION',\n",
      "               'NONE',\n",
      "               'ND',\n",
      "               'NORM',\n",
      "               'MOSAIC'],\n",
      " 'ImagingFrequency': 123.256,\n",
      " 'InPlanePhaseEncodingDirectionDICOM': 'COL',\n",
      " 'InstitutionAddress': 'Jonas_Lies_vei_65_Bergen_District_NO_5021',\n",
      " 'InstitutionName': 'Haukeland_universitetssjukehus',\n",
      " 'InstitutionalDepartmentName': 'RAB-HBE_HOVEDRONTGEN',\n",
      " 'MRAcquisitionType': '2D',\n",
      " 'MagneticFieldStrength': 3,\n",
      " 'Manufacturer': 'Siemens',\n",
      " 'ManufacturersModelName': 'Prisma',\n",
      " 'Modality': 'MR',\n",
      " 'ParallelReductionFactorInPlane': 2,\n",
      " 'PartialFourier': 0.875,\n",
      " 'PatientPosition': 'HFS',\n",
      " 'PercentPhaseFOV': 100,\n",
      " 'PhaseEncodingDirection': 'j-',\n",
      " 'PhaseEncodingSteps': 86,\n",
      " 'PhaseResolution': 1,\n",
      " 'PixelBandwidth': 2085,\n",
      " 'ProcedureStepDescription': 'NEVRO_Hode',\n",
      " 'ProtocolName': 'ep2d_diff_qspace_p2',\n",
      " 'PulseSequenceDetails': '%SiemensSeq%_ep2d_diff',\n",
      " 'ReceiveCoilActiveElements': 'HE1-4',\n",
      " 'ReceiveCoilName': 'HeadNeck_20',\n",
      " 'ReconMatrixPE': 100,\n",
      " 'RefLinesPE': 30,\n",
      " 'RepetitionTime': 7.2,\n",
      " 'SAR': 0.324578,\n",
      " 'ScanOptions': 'PFP_FS',\n",
      " 'ScanningSequence': 'EP',\n",
      " 'SequenceName': '_ep_b0',\n",
      " 'SequenceVariant': 'SK_SP',\n",
      " 'SeriesDescription': 'ep2d_diff_qspace_p2',\n",
      " 'SeriesNumber': 3,\n",
      " 'ShimSetting': [-3971, -11644, -5413, 216, -49, 0, 21, -14],\n",
      " 'SliceThickness': 2.2,\n",
      " 'SliceTiming': [3.59,\n",
      "                 0,\n",
      "                 3.7075,\n",
      "                 0.12,\n",
      "                 3.8275,\n",
      "                 0.2375,\n",
      "                 3.9475,\n",
      "                 0.3575,\n",
      "                 4.0675,\n",
      "                 0.4775,\n",
      "                 4.1875,\n",
      "                 0.5975,\n",
      "                 4.3075,\n",
      "                 0.7175,\n",
      "                 4.4275,\n",
      "                 0.8375,\n",
      "                 4.5475,\n",
      "                 0.9575,\n",
      "                 4.665,\n",
      "                 1.075,\n",
      "                 4.785,\n",
      "                 1.195,\n",
      "                 4.905,\n",
      "                 1.315,\n",
      "                 5.025,\n",
      "                 1.435,\n",
      "                 5.145,\n",
      "                 1.555,\n",
      "                 5.265,\n",
      "                 1.675,\n",
      "                 5.385,\n",
      "                 1.795,\n",
      "                 5.5025,\n",
      "                 1.915,\n",
      "                 5.6225,\n",
      "                 2.0325,\n",
      "                 5.7425,\n",
      "                 2.1525,\n",
      "                 5.8625,\n",
      "                 2.2725,\n",
      "                 5.9825,\n",
      "                 2.3925,\n",
      "                 6.1025,\n",
      "                 2.5125,\n",
      "                 6.2225,\n",
      "                 2.6325,\n",
      "                 6.34,\n",
      "                 2.7525,\n",
      "                 6.46,\n",
      "                 2.87,\n",
      "                 6.58,\n",
      "                 2.99,\n",
      "                 6.7,\n",
      "                 3.11,\n",
      "                 6.82,\n",
      "                 3.23,\n",
      "                 6.94,\n",
      "                 3.35,\n",
      "                 7.06,\n",
      "                 3.47],\n",
      " 'SoftwareVersions': 'syngo_MR_D13D',\n",
      " 'SpacingBetweenSlices': 2.2,\n",
      " 'StationName': 'NHBEHRTGP3MR',\n",
      " 'TotalReadoutTime': 0.0277202,\n",
      " 'TxRefAmp': 329.808}\n"
     ]
    }
   ],
   "source": [
    "fn = '../data/mri/mybids/sub-01/dwi/sub-01_dwi'+'.json'\n",
    "with open(fn) as data_file:    \n",
    "    data = json.load(data_file)\n",
    "# data.keys()\n",
    "# data.items()\n",
    "pprint(data)"
   ]
  },
  {
   "cell_type": "code",
   "execution_count": 129,
   "metadata": {},
   "outputs": [],
   "source": [
    "# Make some info 'NA'\n",
    "data['InstitutionAddress'] = 'NA'\n",
    "data['InstitutionName'] = 'NA'\n",
    "data['InstitutionalDepartmentName'] = 'NA'\n",
    "with open(fn, 'w') as outfile:\n",
    "    json.dump(data, outfile, sort_keys=True, indent=4)\n",
    "#pprint(data)"
   ]
  },
  {
   "cell_type": "code",
   "execution_count": 130,
   "metadata": {},
   "outputs": [],
   "source": [
    "fn = '../data/mri/mybids/sub-01/func/sub-01_task-rest_bold'+'.json'\n",
    "with open(fn) as data_file:    \n",
    "    data = json.load(data_file)\n",
    "# data.keys()\n",
    "# data.items()"
   ]
  },
  {
   "cell_type": "markdown",
   "metadata": {},
   "source": [
    "**TaskName**\n",
    "\n",
    "```python\n",
    "1: [ERR] You have to define 'TaskName' for this file. (code: 50 - TASK_NAME_MUST_DEFINE)\n",
    "\t\t./sub-01/func/sub-01_task-rest_bold.nii.gz\n",
    "\t\t\tYou have to define 'TaskName' for this file. It can be included one of the following locations: /task-rest_bold.json, /bold.json, /sub-01/sub-01_task-rest_bold.json, /sub-01/sub-01_bold.json, /sub-01/func/sub-01_task-rest_bold.json, /sub-01/func/sub-01_bold.json\n",
    "\n",
    "        Summary:                  Available Tasks:        Available Modalities: \n",
    "        11 Files, 121.97MB                                /participants         \n",
    "        1 - Subject                                       T1w                   \n",
    "        1 - Session                                       dwi                   \n",
    "                                                          bold                  \n",
    "\n",
    "If you have any questions please post on https://neurostars.org/tags/bids\n",
    "```\n",
    "Let's begin with the defining `TaskName`. To do this, we will be editing the functional scan's json files. There are required fields that need to be present in each func json file. For this dataset, we notice upon opening the json's that they have defined repetition time and slice timing, but not task name. The task name needs to be the same name given as the task-<TaskName> in the filename. For example sub-101_ses-1_task-rest_bold.json ; the json will have 'TaskName': 'rest, "
   ]
  },
  {
   "cell_type": "code",
   "execution_count": 131,
   "metadata": {},
   "outputs": [
    {
     "name": "stdout",
     "output_type": "stream",
     "text": [
      "{'AcquisitionMatrixPE': 64,\n",
      " 'AcquisitionNumber': 1,\n",
      " 'AcquisitionTime': '14:37:26.780000',\n",
      " 'BandwidthPerPixelPhaseEncode': 48.077,\n",
      " 'BaseResolution': 64,\n",
      " 'BodyPartExamined': 'BRAIN',\n",
      " 'ConsistencyInfo': 'N4_VD13D_LATEST_20130810',\n",
      " 'ConversionSoftware': 'dcm2niix',\n",
      " 'ConversionSoftwareVersion': 'v1.0.20190410  (JP2:OpenJPEG) (JP-LS:CharLS) '\n",
      "                              'MSC1900',\n",
      " 'DerivedVendorReportedEchoSpacing': 0.000649999,\n",
      " 'DeviceSerialNumber': '66035',\n",
      " 'DwellTime': 4.4e-06,\n",
      " 'EchoTime': 0.03,\n",
      " 'EchoTrainLength': 31,\n",
      " 'EffectiveEchoSpacing': 0.000324999,\n",
      " 'FlipAngle': 90,\n",
      " 'ImageComments': 'Reference_volume_for_motion_correction.',\n",
      " 'ImageOrientationPatientDICOM': [0.996788,\n",
      "                                  0.00126201,\n",
      "                                  0.0800744,\n",
      "                                  3.94129e-09,\n",
      "                                  0.999876,\n",
      "                                  -0.0157585],\n",
      " 'ImageType': ['ORIGINAL', 'PRIMARY', 'M', 'ND', 'MOCO', 'MOSAIC'],\n",
      " 'ImagingFrequency': 123.256,\n",
      " 'InPlanePhaseEncodingDirectionDICOM': 'COL',\n",
      " 'InstitutionAddress': 'Jonas_Lies_vei_65_Bergen_District_NO_5021',\n",
      " 'InstitutionName': 'Haukeland_universitetssjukehus',\n",
      " 'InstitutionalDepartmentName': 'RAB-HBE_HOVEDRONTGEN',\n",
      " 'MRAcquisitionType': '2D',\n",
      " 'MagneticFieldStrength': 3,\n",
      " 'Manufacturer': 'Siemens',\n",
      " 'ManufacturersModelName': 'Prisma',\n",
      " 'Modality': 'MR',\n",
      " 'ParallelReductionFactorInPlane': 2,\n",
      " 'PartialFourier': 1,\n",
      " 'PatientPosition': 'HFS',\n",
      " 'PercentPhaseFOV': 100,\n",
      " 'PhaseEncodingDirection': 'j-',\n",
      " 'PhaseEncodingSteps': 63,\n",
      " 'PhaseResolution': 1,\n",
      " 'PixelBandwidth': 1775,\n",
      " 'ProcedureStepDescription': 'NEVRO_Hode',\n",
      " 'ProtocolName': 'ep2d_bold_moco_p2_3mm_RS_MoCo',\n",
      " 'PulseSequenceDetails': '%SiemensSeq%_ep2d_bold',\n",
      " 'ReceiveCoilActiveElements': 'HE1-4',\n",
      " 'ReceiveCoilName': 'HeadNeck_20',\n",
      " 'ReconMatrixPE': 64,\n",
      " 'RefLinesPE': 24,\n",
      " 'RepetitionTime': 2.24,\n",
      " 'SAR': 0.156001,\n",
      " 'ScanOptions': 'FS',\n",
      " 'ScanningSequence': 'EP',\n",
      " 'SequenceName': '_epfid2d1_64',\n",
      " 'SequenceVariant': 'SK',\n",
      " 'SeriesDescription': 'MoCoSeries',\n",
      " 'SeriesNumber': 10,\n",
      " 'ShimSetting': [-3970, -11649, -5417, 202, -48, 4, 4, -18],\n",
      " 'SliceThickness': 3,\n",
      " 'SliceTiming': [1.11,\n",
      "                 0,\n",
      "                 1.165,\n",
      "                 0.055,\n",
      "                 1.22,\n",
      "                 0.11,\n",
      "                 1.275,\n",
      "                 0.165,\n",
      "                 1.3325,\n",
      "                 0.2225,\n",
      "                 1.3875,\n",
      "                 0.2775,\n",
      "                 1.4425,\n",
      "                 0.3325,\n",
      "                 1.4975,\n",
      "                 0.3875,\n",
      "                 1.5525,\n",
      "                 0.4425,\n",
      "                 1.61,\n",
      "                 0.5,\n",
      "                 1.665,\n",
      "                 0.555,\n",
      "                 1.72,\n",
      "                 0.61,\n",
      "                 1.775,\n",
      "                 0.665,\n",
      "                 1.83,\n",
      "                 0.72,\n",
      "                 1.8875,\n",
      "                 0.7775,\n",
      "                 1.9425,\n",
      "                 0.8325,\n",
      "                 1.9975,\n",
      "                 0.8875,\n",
      "                 2.0525,\n",
      "                 0.9425,\n",
      "                 2.1075,\n",
      "                 0.9975,\n",
      "                 2.165,\n",
      "                 1.055],\n",
      " 'SoftwareVersions': 'syngo_MR_D13D',\n",
      " 'SpacingBetweenSlices': 3.3,\n",
      " 'StationName': 'NHBEHRTGP3MR',\n",
      " 'TaskName': 'rest',\n",
      " 'TotalReadoutTime': 0.020475,\n",
      " 'TxRefAmp': 329.808}\n"
     ]
    }
   ],
   "source": [
    "# Have to add TaskName as rest in rs-fMRI json file\n",
    "data.update({'TaskName': 'rest'})\n",
    "\n",
    "pprint(data)"
   ]
  },
  {
   "cell_type": "code",
   "execution_count": 132,
   "metadata": {},
   "outputs": [],
   "source": [
    "# Make some info 'NA'\n",
    "data['InstitutionAddress'] = 'NA'\n",
    "data['InstitutionName'] = 'NA'\n",
    "data['InstitutionalDepartmentName'] = 'NA'\n",
    "with open(fn, 'w') as outfile:\n",
    "    json.dump(data, outfile, sort_keys=True, indent=4)\n",
    "#pprint(data)"
   ]
  },
  {
   "cell_type": "markdown",
   "metadata": {},
   "source": [
    "## BIDS\n",
    "\n",
    "http://reproducibility.stanford.edu/bids-tutorial-series-part-1a/\n",
    "\n",
    "BIDS validator: http://bids-standard.github.io/bids-validator"
   ]
  },
  {
   "cell_type": "code",
   "execution_count": 133,
   "metadata": {},
   "outputs": [],
   "source": [
    "# BIDSHOME = '/mnt/c/Users/arvid/prj/BrainGut/my_bids'\n",
    "BIDSHOME = '../data/mri/mybids'"
   ]
  },
  {
   "cell_type": "code",
   "execution_count": 134,
   "metadata": {
    "scrolled": false
   },
   "outputs": [
    {
     "name": "stdout",
     "output_type": "stream",
     "text": [
      "total 11\n",
      "drwxr-xr-x 1 arvid 197609   0 Apr 19 16:33 .\n",
      "drwxr-xr-x 1 arvid 197609   0 Apr 19 12:55 ..\n",
      "-rw-r--r-- 1 arvid 197609 303 Apr 19 16:29 dataset_description.json\n",
      "-rw-r--r-- 1 arvid 197609 481 Apr 19 16:33 participants.json\n",
      "-rw-r--r-- 1 arvid 197609  47 Apr 19 17:50 participants.tsv\n",
      "drwxr-xr-x 1 arvid 197609   0 Apr 19 12:49 sub-01\n",
      "\n"
     ]
    }
   ],
   "source": [
    "cmd = 'ls -al %s' % (BIDSHOME)\n",
    "process = os.popen(cmd)\n",
    "o=process.read()\n",
    "print(o)\n",
    "process.close()"
   ]
  },
  {
   "cell_type": "code",
   "execution_count": 135,
   "metadata": {},
   "outputs": [
    {
     "name": "stdout",
     "output_type": "stream",
     "text": [
      "Folder PATH listing for volume Local Disk\n",
      "Volume serial number is 82A6-EE0C\n",
      "C:\\USERS\\ARVID\\GITHUB\\BMED360\\DATA\\MRI\\MYBIDS\n",
      "|   dataset_description.json\n",
      "|   participants.json\n",
      "|   participants.tsv\n",
      "|   \n",
      "\\---sub-01\n",
      "    +---anat\n",
      "    |       sub-01_T1w.json\n",
      "    |       sub-01_T1w.nii.gz\n",
      "    |       \n",
      "    +---dwi\n",
      "    |       sub-01_dwi.bval\n",
      "    |       sub-01_dwi.bvec\n",
      "    |       sub-01_dwi.json\n",
      "    |       sub-01_dwi.nii.gz\n",
      "    |       \n",
      "    \\---func\n",
      "            sub-01_task-rest_bold.json\n",
      "            sub-01_task-rest_bold.nii.gz\n",
      "            \n",
      "\n"
     ]
    }
   ],
   "source": [
    "# Linux: cmd = 'tree %s' % (BIDSHOME)\n",
    "cmd = 'tree %s /f /a' % (BIDSHOME)\n",
    "process = os.popen(cmd)\n",
    "o=process.read()\n",
    "print(o)\n",
    "process.close()"
   ]
  },
  {
   "cell_type": "markdown",
   "metadata": {},
   "source": [
    "### Check for BIDS compatibility\n",
    "\n",
    "Command line version:\n",
    "Install [Node.js](https://nodejs.org) (at least version 8.0)<br>\n",
    "From a terminal run `npm install -g bids-validator`<br>\n",
    "Run `bids-validator` to start validating datasets."
   ]
  },
  {
   "cell_type": "code",
   "execution_count": 136,
   "metadata": {},
   "outputs": [
    {
     "name": "stdout",
     "output_type": "stream",
     "text": [
      "\u001b[32mThis dataset appears to be BIDS compatible.\u001b[39m\n",
      "        \u001b[34m\u001b[4mSummary:\u001b[24m\u001b[39m                  \u001b[34m\u001b[4mAvailable Tasks:\u001b[24m\u001b[39m        \u001b[34m\u001b[4mAvailable Modalities:\u001b[24m\u001b[39m \n",
      "        11 Files, 121.97MB        rest                    /participants         \n",
      "        1 - Subject                                       T1w                   \n",
      "        1 - Session                                       dwi                   \n",
      "                                                          bold                  \n",
      "\n",
      "\u001b[37mIf you have any questions please post on https://neurostars.org/tags/bids\u001b[39m\n",
      "\n",
      "\n"
     ]
    }
   ],
   "source": [
    "cmd = 'bids-validator %s --verbose' % BIDSHOME\n",
    "process = os.popen(cmd)\n",
    "o=process.read()\n",
    "print(o)\n",
    "process.close()"
   ]
  },
  {
   "cell_type": "markdown",
   "metadata": {},
   "source": [
    "**SliceTiming**\n",
    "\n",
    "RECOMMENDED. The time at which each slice was acquired within each volume (frame) of the acquisition. Slice timing is not slice order -- rather, it is a list of times (in JSON format) containing the time (in seconds) of each slice acquisition in relation to the beginning of volume acquisition. The list goes through the slices along the slice axis in the slice encoding dimension (see below). Note that to ensure the proper interpretation of the `SliceTiming` field, it is important to check if the OPTIONAL `SliceEncodingDirection` exists. In particular, if `SliceEncodingDirection` is negative, the entries in `SliceTiming` are defined in reverse order with respect to the slice axis (i.e., the final entry in the `SliceTiming` list is the time of acquisition of slice 0). This parameter is REQUIRED for sparse sequences that do not have the DelayTime field set. In addition without this parameter slice time correction will not be possible.\n",
    "\n",
    "Please note that some DICOM parameters have been traditionally expressed in milliseconds. Those need to be converted to seconds.\n",
    "\n",
    "See also: https://github.com/rordenlab/dcm2niix/issues/163   and https://github.com/rordenlab/dcm2niix/tree/master/GE\n",
    "\n",
    "One other suggestion - you may want to try [Xiangrui Li's dicm2nii](https://www.mathworks.com/matlabcentral/fileexchange/42997-dicom-to-nifti-converter--nifti-tool-and-viewer). I think he devoted more time than me in attempting to decode GE datasets. You may find that it provides a richer set of BIDS data than dcm2niix."
   ]
  },
  {
   "cell_type": "code",
   "execution_count": 137,
   "metadata": {},
   "outputs": [
    {
     "name": "stdout",
     "output_type": "stream",
     "text": [
      "[1.11, 0, 1.165, 0.055, 1.22, 0.11, 1.275, 0.165, 1.3325, 0.2225, 1.3875, 0.2775, 1.4425, 0.3325, 1.4975, 0.3875, 1.5525, 0.4425, 1.61, 0.5, 1.665, 0.555, 1.72, 0.61, 1.775, 0.665, 1.83, 0.72, 1.8875, 0.7775, 1.9425, 0.8325, 1.9975, 0.8875, 2.0525, 0.9425, 2.1075, 0.9975, 2.165, 1.055]\n",
      "[0.00111, 0.0, 0.001165, 5.5e-05, 0.00122, 0.00011, 0.0012749999999999999, 0.000165, 0.0013325, 0.00022250000000000001, 0.0013875, 0.0002775, 0.0014425, 0.0003325, 0.0014975000000000001, 0.0003875, 0.0015525, 0.0004425, 0.00161, 0.0005, 0.001665, 0.000555, 0.00172, 0.00061, 0.0017749999999999999, 0.000665, 0.00183, 0.0007199999999999999, 0.0018874999999999999, 0.0007775, 0.0019425, 0.0008325, 0.0019975, 0.0008874999999999999, 0.0020525, 0.0009425, 0.0021075, 0.0009975000000000001, 0.002165, 0.001055]\n"
     ]
    }
   ],
   "source": [
    "st = data['SliceTiming']\n",
    "print(st)\n",
    "arr = np.array(st)\n",
    "print(list(arr/1000))"
   ]
  },
  {
   "cell_type": "code",
   "execution_count": 138,
   "metadata": {},
   "outputs": [
    {
     "name": "stdout",
     "output_type": "stream",
     "text": [
      "<class 'pandas.core.frame.DataFrame'>\n",
      "RangeIndex: 1 entries, 0 to 0\n",
      "Data columns (total 4 columns):\n",
      "participant_id    1 non-null object\n",
      "gender            1 non-null object\n",
      "age               1 non-null int64\n",
      "group             1 non-null object\n",
      "dtypes: int64(1), object(3)\n",
      "memory usage: 112.0+ bytes\n"
     ]
    }
   ],
   "source": [
    "df = pd.read_csv('%s/participants.tsv' % (BIDSHOME), delimiter='\\t')\n",
    "df.info()"
   ]
  },
  {
   "cell_type": "code",
   "execution_count": 139,
   "metadata": {},
   "outputs": [
    {
     "data": {
      "text/html": [
       "<div>\n",
       "<style scoped>\n",
       "    .dataframe tbody tr th:only-of-type {\n",
       "        vertical-align: middle;\n",
       "    }\n",
       "\n",
       "    .dataframe tbody tr th {\n",
       "        vertical-align: top;\n",
       "    }\n",
       "\n",
       "    .dataframe thead th {\n",
       "        text-align: right;\n",
       "    }\n",
       "</style>\n",
       "<table border=\"1\" class=\"dataframe\">\n",
       "  <thead>\n",
       "    <tr style=\"text-align: right;\">\n",
       "      <th></th>\n",
       "      <th>participant_id</th>\n",
       "      <th>gender</th>\n",
       "      <th>age</th>\n",
       "      <th>group</th>\n",
       "    </tr>\n",
       "  </thead>\n",
       "  <tbody>\n",
       "    <tr>\n",
       "      <th>0</th>\n",
       "      <td>sub-01</td>\n",
       "      <td>M</td>\n",
       "      <td>29</td>\n",
       "      <td>HC</td>\n",
       "    </tr>\n",
       "  </tbody>\n",
       "</table>\n",
       "</div>"
      ],
      "text/plain": [
       "  participant_id gender  age group\n",
       "0         sub-01      M   29    HC"
      ]
     },
     "execution_count": 139,
     "metadata": {},
     "output_type": "execute_result"
    }
   ],
   "source": [
    "df.head()"
   ]
  },
  {
   "cell_type": "markdown",
   "metadata": {},
   "source": [
    "### Inspect images"
   ]
  },
  {
   "cell_type": "code",
   "execution_count": 140,
   "metadata": {},
   "outputs": [],
   "source": [
    "import nibabel as nib\n",
    "from nilearn import image\n",
    "from nilearn import plotting\n",
    "import matplotlib.pyplot as plt"
   ]
  },
  {
   "cell_type": "code",
   "execution_count": 141,
   "metadata": {},
   "outputs": [],
   "source": [
    "# freeview -v ./sub-01/anat/sub-01_T1w.nii.gz ./sub-01/func/sub-01_task-rest_bold.nii.gz"
   ]
  },
  {
   "cell_type": "code",
   "execution_count": 142,
   "metadata": {},
   "outputs": [],
   "source": [
    "anat_fn = BIDSHOME+'/sub-01/anat/sub-01_T1w.nii.gz'\n",
    "func_fn = BIDSHOME+'/sub-01/func/sub-01_task-rest_bold.nii.gz'\n",
    "dwi_fn = BIDSHOME+'/sub-01/dwi/sub-01_dwi.nii.gz'"
   ]
  },
  {
   "cell_type": "code",
   "execution_count": 143,
   "metadata": {},
   "outputs": [
    {
     "name": "stderr",
     "output_type": "stream",
     "text": [
      "C:\\Users\\arvid\\Anaconda3\\envs\\bmed360\\lib\\site-packages\\nilearn\\image\\resampling.py:510: UserWarning: Casting data from int32 to float32\n",
      "  warnings.warn(\"Casting data from %s to %s\" % (data.dtype.name, aux))\n"
     ]
    },
    {
     "data": {
      "text/plain": [
       "<nilearn.plotting.displays.OrthoSlicer at 0x17c044a3eb8>"
      ]
     },
     "execution_count": 143,
     "metadata": {},
     "output_type": "execute_result"
    },
    {
     "data": {
      "image/png": "[encoded data removed]",
      "text/plain": [
       "<Figure size 475.2x187.2 with 4 Axes>"
      ]
     },
     "metadata": {},
     "output_type": "display_data"
    }
   ],
   "source": [
    "# inspect the resulting NIFTI file using plotting from nilearn\n",
    "plotting.plot_anat(anat_fn, title=\"sub-01_T1w.nii.gz\")"
   ]
  },
  {
   "cell_type": "code",
   "execution_count": 144,
   "metadata": {},
   "outputs": [
    {
     "name": "stdout",
     "output_type": "stream",
     "text": [
      "(192, 256, 256)\n"
     ]
    }
   ],
   "source": [
    "print(image.load_img(anat_fn).shape)"
   ]
  },
  {
   "cell_type": "code",
   "execution_count": 145,
   "metadata": {},
   "outputs": [
    {
     "name": "stdout",
     "output_type": "stream",
     "text": [
      "(192, 256, 256)\n"
     ]
    }
   ],
   "source": [
    "# using nibabel\n",
    "img = nib.load(anat_fn)\n",
    "data = img.get_data()\n",
    "print(data.shape)"
   ]
  },
  {
   "cell_type": "code",
   "execution_count": 146,
   "metadata": {},
   "outputs": [
    {
     "name": "stdout",
     "output_type": "stream",
     "text": [
      "(1.0, 1.0, 1.0)\n"
     ]
    }
   ],
   "source": [
    "# check the dimensions of each voxel\n",
    "print(img.header.get_zooms()[:3])"
   ]
  },
  {
   "cell_type": "code",
   "execution_count": 147,
   "metadata": {},
   "outputs": [
    {
     "data": {
      "image/png": "[encoded data removed]",
      "text/plain": [
       "<Figure size 432x288 with 3 Axes>"
      ]
     },
     "metadata": {
      "needs_background": "light"
     },
     "output_type": "display_data"
    }
   ],
   "source": [
    "# show here the middle axial slices of 3D T1 image +/- offset slices\n",
    "offset = 40\n",
    "axial_middle = data.shape[2] // 2\n",
    "plt.figure('Showing the dataset')\n",
    "plt.subplot(1, 3, 1).set_axis_off()\n",
    "plt.imshow(data[:, :, axial_middle - offset].T, cmap='gray', origin='lower')\n",
    "plt.subplot(1, 3, 2).set_axis_off()\n",
    "plt.imshow(data[:, :, axial_middle].T, cmap='gray', origin='lower')\n",
    "plt.subplot(1, 3, 3).set_axis_off()\n",
    "plt.imshow(data[:, :, axial_middle + offset].T, cmap='gray', origin='lower')\n",
    "plt.show()"
   ]
  },
  {
   "cell_type": "code",
   "execution_count": 148,
   "metadata": {},
   "outputs": [
    {
     "name": "stdout",
     "output_type": "stream",
     "text": [
      "<class 'nibabel.nifti1.Nifti1Header'> object, endian='<'\n",
      "sizeof_hdr      : 348\n",
      "data_type       : b''\n",
      "db_name         : b''\n",
      "extents         : 0\n",
      "session_error   : 0\n",
      "regular         : b'r'\n",
      "dim_info        : 54\n",
      "dim             : [  3 192 256 256   1   1   1   1]\n",
      "intent_p1       : 0.0\n",
      "intent_p2       : 0.0\n",
      "intent_p3       : 0.0\n",
      "intent_code     : none\n",
      "datatype        : int16\n",
      "bitpix          : 16\n",
      "slice_start     : 0\n",
      "pixdim          : [1.  1.  1.  1.  1.8 0.  0.  0. ]\n",
      "vox_offset      : 0.0\n",
      "scl_slope       : nan\n",
      "scl_inter       : nan\n",
      "slice_end       : 0\n",
      "slice_code      : unknown\n",
      "xyzt_units      : 10\n",
      "cal_max         : 0.0\n",
      "cal_min         : 0.0\n",
      "slice_duration  : 0.0\n",
      "toffset         : 0.0\n",
      "glmax           : 0\n",
      "glmin           : 0\n",
      "descrip         : b'TE=2.3;Time=141057.453;phase=1'\n",
      "aux_file        : b''\n",
      "qform_code      : scanner\n",
      "sform_code      : scanner\n",
      "quatern_b       : -8.395315e-05\n",
      "quatern_c       : 0.042711377\n",
      "quatern_d       : 0.0019637048\n",
      "qoffset_x       : -105.44209\n",
      "qoffset_y       : -86.7565\n",
      "qoffset_z       : -120.41319\n",
      "srow_x          : [ 9.9634588e-01 -3.9309897e-03  8.5344307e-02 -1.0544209e+02]\n",
      "srow_y          : [ 3.9166552e-03  9.9999225e-01  3.3549781e-04 -8.6756500e+01]\n",
      "srow_z          : [-8.5345149e-02 -7.6669693e-09  9.9635148e-01 -1.2041319e+02]\n",
      "intent_name     : b''\n",
      "magic           : b'n+1'\n"
     ]
    }
   ],
   "source": [
    "# print the full nifti header\n",
    "print(img.header)"
   ]
  },
  {
   "cell_type": "code",
   "execution_count": 149,
   "metadata": {},
   "outputs": [
    {
     "data": {
      "image/png": "[encoded data removed]",
      "text/plain": [
       "<Figure size 432x288 with 1 Axes>"
      ]
     },
     "metadata": {
      "needs_background": "light"
     },
     "output_type": "display_data"
    }
   ],
   "source": [
    "# the histogram of the 3D T1 data\n",
    "\n",
    "x = data.flatten()\n",
    "m, bins, patches = plt.hist(x, 50, density=True, facecolor='b', alpha=0.75)\n",
    "\n",
    "mn = np.min(x)\n",
    "mx = np.max(x)\n",
    "mu = np.mean(x)\n",
    "s = np.std(x)\n",
    "txt = 'min=%d, $\\mu$=%0.2f ($\\sigma$=%0.2f), max=%d' % (mn, mu, s, mx)\n",
    "plt.xlabel('Signal intensity')\n",
    "plt.ylabel('Probability')\n",
    "plt.title('Histogram of 3D T1 data')\n",
    "plt.text(5000, .0005, txt)\n",
    "plt.grid(True)\n",
    "plt.show()"
   ]
  },
  {
   "cell_type": "code",
   "execution_count": null,
   "metadata": {},
   "outputs": [],
   "source": []
  }
 ],
 "metadata": {
  "kernelspec": {
   "display_name": "BMED360",
   "language": "python",
   "name": "bmed360"
  },
  "language_info": {
   "codemirror_mode": {
    "name": "ipython",
    "version": 3
   },
   "file_extension": ".py",
   "mimetype": "text/x-python",
   "name": "python",
   "nbconvert_exporter": "python",
   "pygments_lexer": "ipython3",
   "version": "3.6.7"
  },
  "latex_envs": {
   "LaTeX_envs_menu_present": true,
   "autoclose": false,
   "autocomplete": true,
   "bibliofile": "biblio.bib",
   "cite_by": "apalike",
   "current_citInitial": 1,
   "eqLabelWithNumbers": true,
   "eqNumInitial": 1,
   "hotkeys": {
    "equation": "Ctrl-E",
    "itemize": "Ctrl-I"
   },
   "labels_anchors": false,
   "latex_user_defs": false,
   "report_style_numbering": false,
   "user_envs_cfg": false
  },
  "toc": {
   "base_numbering": 1,
   "nav_menu": {
    "height": "58px",
    "width": "169px"
   },
   "number_sections": false,
   "sideBar": true,
   "skip_h1_title": false,
   "title_cell": "Table of Contents",
   "title_sidebar": "Contents",
   "toc_cell": false,
   "toc_position": {},
   "toc_section_display": false,
   "toc_window_display": false
  }
 },
 "nbformat": 4,
 "nbformat_minor": 2
}
