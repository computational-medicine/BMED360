{
 "cells": [
  {
   "cell_type": "markdown",
   "metadata": {},
   "source": [
    "\n",
    "Copyright (c) 2019 Computational-Medicine\n",
    "\n",
    "# Convert DICOMs to NIFTI using dcm2niix\n",
    "\n",
    "dcm2niix is a designed to convert neuroimaging data from the DICOM format to the NIfTI format.\n",
    "\n",
    "This software should run on macOS, Linux and Windows typically without requiring any other software. However, if you use dcm2niix to create gz-compressed images it will be faster if you have pigz installed. You can get a version of both dcm2niix and [pigz](https://github.com/madler/pigz) compiled for your operating system by downloading [MRIcroGL](https://github.com/rordenlab/MRIcroGL12/releases). There is also an optional [batch processing version](https://github.com/rordenlab/dcm2niix/blob/master/BATCH.md) of dcm2niix.\n",
    "\n",
    "\n",
    "### Install\n",
    "\n",
    "There are a couple ways to install dcm2niix\n",
    "\n",
    " - [Github Releases](https://github.com/rordenlab/dcm2niix/releases) provides the latest compiled executables. This is an excellent option for MacOS and Windows users. However, the provided Linux executable requires a recent version of Linux, so the provided Unix executable is not suitable for all distributions.\n",
    " - [MRIcroGL](https://github.com/rordenlab/MRIcroGL12/releases) includes dcm2niix that can be run from the command line or from the graphical user interface (select the Import menu item). The Linux version of dcm2niix is compiled on a holy build box, so it should run on any Linux distribution.\n",
    " - If you have a MacOS computer with Homebrew you can run brew install dcm2niix.\n",
    " - If you have Conda, `conda install -c conda-forge dcm2niix` on Linux, MacOS or Windows (may be not the latest version)\n",
    " - On Debian Linux computers you can run sudo apt-get install dcm2niix.\n"
   ]
  },
  {
   "cell_type": "code",
   "execution_count": 43,
   "metadata": {
    "scrolled": false
   },
   "outputs": [
    {
     "name": "stdout",
     "output_type": "stream",
     "text": [
      "numpy: 1.14.5\n",
      "pandas: 0.23.4\n",
      "nibabel: 2.3.2\n",
      "scipy: 1.1.0\n",
      "nilearn: 0.5.0\n",
      "matplotlib: 3.0.2\n",
      "sklearn: 0.20.0\n",
      "pydicom: 1.2.2\n",
      "json: 2.0.9\n"
     ]
    }
   ],
   "source": [
    "%matplotlib inline\n",
    "\n",
    "import os\n",
    "import os.path as op\n",
    "from os import listdir\n",
    "from os.path import isfile, isdir, join\n",
    "import pathlib\n",
    "import glob\n",
    "import shutil\n",
    "import json\n",
    "import numpy as np\n",
    "import pandas as pd\n",
    "import nibabel as nib\n",
    "import scipy\n",
    "from nilearn import image\n",
    "from nilearn import plotting\n",
    "import matplotlib.pyplot as plt\n",
    "from nilearn.image.image import mean_img\n",
    "from sklearn.cluster import KMeans\n",
    "from nilearn.masking import apply_mask\n",
    "from pprint import pprint\n",
    "\n",
    "import nilearn\n",
    "import sklearn\n",
    "import matplotlib\n",
    "import pydicom  # pip install git+https://github.com/pydicom/pydicom.git\n",
    "import pydicom as dicom\n",
    "\n",
    "print('numpy: %s' % np.__version__)\n",
    "print('pandas: %s' % pd.__version__)\n",
    "print('nibabel: %s' % nib.__version__)\n",
    "print('scipy: %s' % scipy.__version__)\n",
    "print('nilearn: %s' % nilearn.__version__)\n",
    "print('matplotlib: %s' % matplotlib.__version__)\n",
    "print('sklearn: %s' % sklearn.__version__)\n",
    "print('pydicom: %s' % pydicom.__version__)\n",
    "print('json: %s' % json.__version__)"
   ]
  },
  {
   "cell_type": "code",
   "execution_count": 69,
   "metadata": {},
   "outputs": [],
   "source": [
    "import os\n",
    "import pathlib\n",
    "import pandas as pd\n",
    "import numpy as np\n",
    "home = os.path.expanduser('~')  # To make path to local home directory\n",
    "\n",
    "# We assume you have made a directory ~/prj/BMED360/data"
   ]
  },
  {
   "cell_type": "markdown",
   "metadata": {},
   "source": [
    "### Download zipped DICOM data from a Google Drive\n",
    "\n",
    "https://drive.google.com/file/d/1S-Og-5-T8N8wxfqR4hm2bFrP0pEsaliN/view?usp=sharing"
   ]
  },
  {
   "cell_type": "code",
   "execution_count": 70,
   "metadata": {},
   "outputs": [],
   "source": [
    "# https://github.com/nsadawi/Download-Large-File-From-Google-Drive-Using-Python/blob/master/Download-Large-File-from-Google-Drive.ipynb\n",
    "\n",
    "# taken from this StackOverflow answer: https://stackoverflow.com/a/39225039\n",
    "import requests\n",
    "\n",
    "def download_file_from_google_drive(id, destination):\n",
    "    URL = \"https://docs.google.com/uc?export=download\"\n",
    "\n",
    "    session = requests.Session()\n",
    "\n",
    "    response = session.get(URL, params = { 'id' : id }, stream = True)\n",
    "    token = get_confirm_token(response)\n",
    "\n",
    "    if token:\n",
    "        params = { 'id' : id, 'confirm' : token }\n",
    "        response = session.get(URL, params = params, stream = True)\n",
    "\n",
    "    save_response_content(response, destination)    \n",
    "\n",
    "def get_confirm_token(response):\n",
    "    for key, value in response.cookies.items():\n",
    "        if key.startswith('download_warning'):\n",
    "            return value\n",
    "\n",
    "    return None\n",
    "\n",
    "def save_response_content(response, destination):\n",
    "    CHUNK_SIZE = 32768\n",
    "\n",
    "    with open(destination, \"wb\") as f:\n",
    "        for chunk in response.iter_content(CHUNK_SIZE):\n",
    "            if chunk: # filter out keep-alive new chunks\n",
    "                f.write(chunk)"
   ]
  },
  {
   "cell_type": "code",
   "execution_count": 9,
   "metadata": {},
   "outputs": [],
   "source": [
    "file_id = '1S-Og-5-T8N8wxfqR4hm2bFrP0pEsaliN'\n",
    "destination = '%s/prj/BMED360/data/lg_prisma_20160218.zip' % (home)\n",
    "download_file_from_google_drive(file_id, destination)"
   ]
  },
  {
   "cell_type": "markdown",
   "metadata": {},
   "source": [
    "### Unzip DICOM files to a target directory\n",
    "\n",
    "https://stackoverflow.com/questions/3451111/unzipping-files-in-python"
   ]
  },
  {
   "cell_type": "code",
   "execution_count": 76,
   "metadata": {},
   "outputs": [],
   "source": [
    "from zipfile import ZipFile\n",
    "\n",
    "path_to_extract_folder = '%s/prj/BMED360/data' % (home)\n",
    "zf = ZipFile(destination, 'r')\n",
    "zf.extractall(path_to_extract_folder)\n",
    "zf.close()"
   ]
  },
  {
   "cell_type": "code",
   "execution_count": 77,
   "metadata": {},
   "outputs": [
    {
     "name": "stdout",
     "output_type": "stream",
     "text": [
      "Folder PATH listing for volume Local Disk\n",
      "Volume serial number is 82A6-EE0C\n",
      "C:\\USERS\\ARVID\\PRJ\\BMED360\\DATA\n",
      "\\---lg_prisma_20160218\n",
      "    \\---dicom\n",
      "\n"
     ]
    }
   ],
   "source": [
    "#!tree path_to_extract_folder /f /a\n",
    "cmd = 'tree %s /a' % (path_to_extract_folder)\n",
    "print(os.popen(cmd).read())"
   ]
  },
  {
   "cell_type": "markdown",
   "metadata": {},
   "source": [
    "## dcm2niix\n",
    "\n",
    "https://github.com/rordenlab/dcm2niix\n",
    "\n",
    "git clone git@github.com:rordenlab/dcm2niix.git\n",
    "\n",
    "https://www.nitrc.org/plugins/mwiki/index.php/dcm2nii:MainPage\n",
    "\n",
    "conda install -c conda-forge dcm2niix\n",
    "\n",
    "Download: https://github.com/rordenlab/dcm2niix <br>\n",
    "Usage: https://www.nitrc.org/plugins/mwiki/index.php/dcm2nii:MainPage#General_Usage"
   ]
  },
  {
   "cell_type": "code",
   "execution_count": 78,
   "metadata": {},
   "outputs": [
    {
     "name": "stdout",
     "output_type": "stream",
     "text": [
      "Compression will be faster with pigz.exe in the same folder as the executable\n",
      "Chris Rorden's dcm2niiX version v1.0.20190410  (JP2:OpenJPEG) (JP-LS:CharLS) MSC1900 (64-bit Windows)\n",
      "usage: dcm2niix.exe [options] <in_folder>\n",
      " Options :\n",
      "  -1..-9 : gz compression level (1=fastest..9=smallest, default 6)\n",
      "  -a : adjacent DICOMs (images from same series always in same folder) for faster conversion (n/y, default n)\n",
      "  -b : BIDS sidecar (y/n/o [o=only: no NIfTI], default y)\n",
      "   -ba : anonymize BIDS (y/n, default y)\n",
      "  -c : comment stored in NIfTI aux_file (provide up to 24 characters)\n",
      "  -d : directory search depth. Convert DICOMs in sub-folders of in_folder? (0..9, default 5)\n",
      "  -e : export as NRRD instead of NIfTI (y/n, default n)\n",
      "  -f : filename (%a=antenna (coil) name, %b=basename, %c=comments, %d=description, %e=echo number, %f=folder name, %i=ID of patient, %j=seriesInstanceUID, %k=studyInstanceUID, %m=manufacturer, %n=name of patient, %p=protocol, %r=instance number, %s=series number, %t=time, %u=acquisition number, %v=vendor, %x=study ID; %z=sequence name; default '%t_%p_%s')\n",
      "  -g : generate defaults file (y/n/o/i [o=only: reset and write defaults; i=ignore: reset defaults], default n)\n",
      "  -h : show help\n",
      "  -i : ignore derived, localizer and 2D images (y/n, default n)\n",
      "  -l : losslessly scale 16-bit integers to use dynamic range (y/n, default n)\n",
      "  -m : merge 2D slices from same series regardless of study time, echo, coil, orientation, etc. (y/n, default n)\n",
      "  -n : only convert this series number - can be used up to 16 times (default convert all)\n",
      "  -o : output directory (omit to save to input folder)\n",
      "  -p : Philips precise float (not display) scaling (y/n, default y)\n",
      "  -r : rename instead of convert DICOMs (y/n, default n)\n",
      "  -s : single file mode, do not convert other images in folder (y/n, default n)\n",
      "  -t : text notes includes private patient details (y/n, default n)\n",
      "  -v : verbose (n/y or 0/1/2 [no, yes, logorrheic], default 0)\n",
      "  -w : write behavior for name conflicts (0,1,2, default 2: 0=skip duplicates, 1=overwrite, 2=add suffix)\n",
      "  -x : crop 3D acquisitions (y/n/i, default n, use 'i'gnore to neither crop nor rotate 3D acquistions)\n",
      "  -z : gz compress images (y/i/n/3, default y) [y=pigz, i=internal:miniz, n=no, 3=no,3D]\n",
      " Defaults stored in Windows registry\n",
      " Examples :\n",
      "  dcm2niix.exe c:\\DICOM\\dir\n",
      "  dcm2niix.exe -c \"my comment\" c:\\DICOM\\dir\n",
      "  dcm2niix.exe -o c:\\out\\dir c:\\DICOM\\dir\n",
      "  dcm2niix.exe -f mystudy%s c:\\DICOM\\dir\n",
      "  dcm2niix.exe -o \"c:\\dir with spaces\\dir\" c:\\dicomdir\n",
      "\n"
     ]
    }
   ],
   "source": [
    "DCMCONVERT = '%s/prj/BMED360/bin/dcm2niix_11-Apr-2019_win/dcm2niix.exe' % (home)\n",
    "print(os.popen(DCMCONVERT).read())"
   ]
  },
  {
   "cell_type": "code",
   "execution_count": 82,
   "metadata": {},
   "outputs": [],
   "source": [
    "subjs = ['lg_prisma_20160218']\n",
    "mydcm = '%s/%s/dicom' % (path_to_extract_folder, subj)\n",
    "mynii = '%s/%s/nifti' % (path_to_extract_folder, subj)"
   ]
  },
  {
   "cell_type": "code",
   "execution_count": 83,
   "metadata": {},
   "outputs": [],
   "source": [
    "def my_dcm2niix(mydcm, mynii, subj):\n",
    "    for i in range(len(subj)):\n",
    "        s = subj[i]\n",
    "    \n",
    "        # Convert to NIFTI (all sequences)\n",
    "        source_dir = mydcm\n",
    "        output_dir = mynii\n",
    "        pathlib.Path(output_dir).mkdir(parents=True, exist_ok=True)\n",
    "    \n",
    "        # cmd = [\n",
    "        # '/usr/local/bin/dcm2niix',\n",
    "        # '/home/arvid/anaconda3/bin/dcm2niix',\n",
    "        # 'C:\\\\Users\\\\arvid\\\\Anaconda3\\\\Library\\\\bin\\\\dcm2niix',\n",
    "        # 'C:\\Users\\arvid\\Anaconda3\\Library\\bin\\dcm2niix.exe'\n",
    "        cmd = [\n",
    "            DCMCONVERT,\n",
    "            '-d', '9',\n",
    "            '-b', 'y',\n",
    "            '-m', 'n',\n",
    "            '-s', 'n',\n",
    "            '-t', 'n',\n",
    "            '-x', 'n',\n",
    "            '-z', 'y',\n",
    "            '-i', 'y',\n",
    "            '-f', subj[i]+'_%s_%p_%n_%t',\n",
    "            '-o', output_dir,\n",
    "            source_dir]\n",
    "        #  '-f', '%p_%t_%s',    see help:  dcm2niix -h\n",
    "        cmd_str = \" \".join(cmd)\n",
    "        print('cmd_str = \\n%s\\n' % cmd_str)\n",
    "        os.system(cmd_str)"
   ]
  },
  {
   "cell_type": "code",
   "execution_count": 84,
   "metadata": {},
   "outputs": [
    {
     "name": "stdout",
     "output_type": "stream",
     "text": [
      "cmd_str = \n",
      "C:\\Users\\arvid/prj/BMED360/bin/dcm2niix_11-Apr-2019_win/dcm2niix.exe -d 9 -b y -m n -s n -t n -x n -z y -i y -f lg_prisma_20160218_%s_%p_%n_%t -o C:\\Users\\arvid/prj/BMED360/data/lg_prisma_20160218/nifti C:\\Users\\arvid/prj/BMED360/data/lg_prisma_20160218/dicom\n",
      "\n"
     ]
    }
   ],
   "source": [
    "my_dcm2niix(mydcm, mynii, subjs)"
   ]
  },
  {
   "cell_type": "markdown",
   "metadata": {},
   "source": [
    "## BIDS\n",
    "\n",
    "http://reproducibility.stanford.edu/bids-tutorial-series-part-1a/\n",
    "\n",
    "BIDS validator: http://bids-standard.github.io/bids-validator"
   ]
  },
  {
   "cell_type": "code",
   "execution_count": 119,
   "metadata": {},
   "outputs": [],
   "source": [
    "# BIDSHOME = '/mnt/c/Users/arvid/prj/BrainGut/my_bids'\n",
    "BIDSHOME = 'C:/Users/arvid/prj/Aging/bids'\n",
    "myBIDSHOME = 'C:/Users/arvid/prj/Aging/my_bids'"
   ]
  },
  {
   "cell_type": "code",
   "execution_count": 120,
   "metadata": {
    "scrolled": false
   },
   "outputs": [
    {
     "name": "stdout",
     "output_type": "stream",
     "text": [
      "total 14\n",
      "drwxr-xr-x 1 arvid arvid   0 Feb 19 20:51 .\n",
      "drwxr-xr-x 1 arvid arvid   0 Feb 19 21:43 ..\n",
      "-rw-r--r-- 1 arvid arvid 274 Feb 19 20:51 dataset_description.json\n",
      "-rw-r--r-- 1 arvid arvid 557 Feb 19 21:04 participants.json\n",
      "-rw-r--r-- 1 arvid arvid 159 Feb 19 20:54 participants.tsv\n",
      "drwxr-xr-x 1 arvid arvid   0 Feb 19 20:38 sub-501\n",
      "drwxr-xr-x 1 arvid arvid   0 Feb 19 20:40 sub-502\n",
      "drwxr-xr-x 1 arvid arvid   0 Feb 19 20:37 sub-504\n",
      "drwxr-xr-x 1 arvid arvid   0 Feb 19 20:39 sub-505\n",
      "drwxr-xr-x 1 arvid arvid   0 Feb 19 20:37 sub-506\n",
      "drwxr-xr-x 1 arvid arvid   0 Feb 19 20:41 sub-507\n",
      "drwxr-xr-x 1 arvid arvid   0 Feb 19 20:41 sub-508\n",
      "drwxr-xr-x 1 arvid arvid   0 Feb 19 20:41 sub-510\n",
      "\n"
     ]
    }
   ],
   "source": [
    "cmd = 'ls -al %s' % (BIDSHOME)\n",
    "process = os.popen(cmd)\n",
    "o=process.read()\n",
    "print(o)\n",
    "process.close()"
   ]
  },
  {
   "cell_type": "code",
   "execution_count": 121,
   "metadata": {},
   "outputs": [
    {
     "name": "stdout",
     "output_type": "stream",
     "text": [
      "Folder PATH listing for volume Local Disk\n",
      "Volume serial number is 82A6-EE0C\n",
      "C:\\USERS\\ARVID\\PRJ\\AGING\\BIDS\n",
      "|   dataset_description.json\n",
      "|   participants.json\n",
      "|   participants.tsv\n",
      "|   \n",
      "+---sub-501\n",
      "|   +---ses-01\n",
      "|   |   +---anat\n",
      "|   |   |       sub-501_ses-01_T1w.json\n",
      "|   |   |       sub-501_ses-01_T1w.nii.gz\n",
      "|   |   |       sub-501_ses-01_T2w.json\n",
      "|   |   |       sub-501_ses-01_T2w.nii.gz\n",
      "|   |   |       \n",
      "|   |   \\---dwi\n",
      "|   |           sub-501_ses-01_dwi.bval\n",
      "|   |           sub-501_ses-01_dwi.bvec\n",
      "|   |           sub-501_ses-01_dwi.json\n",
      "|   |           sub-501_ses-01_dwi.nii.gz\n",
      "|   |           \n",
      "|   \\---ses-02\n",
      "|       +---anat\n",
      "|       |       sub-501_ses-02_T1w.json\n",
      "|       |       sub-501_ses-02_T1w.nii.gz\n",
      "|       |       sub-501_ses-02_T2w.json\n",
      "|       |       sub-501_ses-02_T2w.nii.gz\n",
      "|       |       \n",
      "|       +---dwi\n",
      "|       |       sub-501_ses-02_dwi.bval\n",
      "|       |       sub-501_ses-02_dwi.bvec\n",
      "|       |       sub-501_ses-02_dwi.json\n",
      "|       |       sub-501_ses-02_dwi.nii.gz\n",
      "|       |       \n",
      "|       \\---fmap\n",
      "|               sub-501_ses-02_T2star.json\n",
      "|               sub-501_ses-02_T2star.nii.gz\n",
      "|               \n",
      "+---sub-502\n",
      "|   +---ses-01\n",
      "|   |   +---anat\n",
      "|   |   |       sub-502_ses-01_T1w.json\n",
      "|   |   |       sub-502_ses-01_T1w.nii.gz\n",
      "|   |   |       sub-502_ses-01_T2w.json\n",
      "|   |   |       sub-502_ses-01_T2w.nii.gz\n",
      "|   |   |       \n",
      "|   |   \\---dwi\n",
      "|   |           sub-502_ses-01_dwi.bval\n",
      "|   |           sub-502_ses-01_dwi.bvec\n",
      "|   |           sub-502_ses-01_dwi.json\n",
      "|   |           sub-502_ses-01_dwi.nii.gz\n",
      "|   |           \n",
      "|   \\---ses-03\n",
      "|       +---anat\n",
      "|       |       sub-502_ses-03_T1w.json\n",
      "|       |       sub-502_ses-03_T1w.nii.gz\n",
      "|       |       sub-502_ses-03_T2w.json\n",
      "|       |       sub-502_ses-03_T2w.nii.gz\n",
      "|       |       \n",
      "|       +---dwi\n",
      "|       |       sub-502_ses-03_dwi.bval\n",
      "|       |       sub-502_ses-03_dwi.bvec\n",
      "|       |       sub-502_ses-03_dwi.json\n",
      "|       |       sub-502_ses-03_dwi.nii.gz\n",
      "|       |       \n",
      "|       \\---fmap\n",
      "|               sub-502_ses-03_T2star.json\n",
      "|               sub-502_ses-03_T2star.nii.gz\n",
      "|               \n",
      "+---sub-504\n",
      "|   \\---ses-01\n",
      "|       +---anat\n",
      "|       |       sub-504_ses-01_T2w.json\n",
      "|       |       sub-504_ses-01_T2w.nii.gz\n",
      "|       |       \n",
      "|       \\---dwi\n",
      "|               sub-504_ses-01_dwi.bval\n",
      "|               sub-504_ses-01_dwi.bvec\n",
      "|               sub-504_ses-01_dwi.json\n",
      "|               sub-504_ses-01_dwi.nii.gz\n",
      "|               \n",
      "+---sub-505\n",
      "|   \\---ses-02\n",
      "|       +---anat\n",
      "|       |       sub-505_ses-02_T1w.json\n",
      "|       |       sub-505_ses-02_T1w.nii.gz\n",
      "|       |       sub-505_ses-02_T2w.json\n",
      "|       |       sub-505_ses-02_T2w.nii.gz\n",
      "|       |       \n",
      "|       +---dwi\n",
      "|       |       sub-505_ses-02_dwi.bval\n",
      "|       |       sub-505_ses-02_dwi.bvec\n",
      "|       |       sub-505_ses-02_dwi.json\n",
      "|       |       sub-505_ses-02_dwi.nii.gz\n",
      "|       |       \n",
      "|       \\---fmap\n",
      "|               sub-505_ses-02_T2star.json\n",
      "|               sub-505_ses-02_T2star.nii.gz\n",
      "|               \n",
      "+---sub-506\n",
      "|   \\---ses-01\n",
      "|       +---anat\n",
      "|       |       sub-506_ses-01_T1w.json\n",
      "|       |       sub-506_ses-01_T1w.nii.gz\n",
      "|       |       sub-506_ses-01_T2w.json\n",
      "|       |       sub-506_ses-01_T2w.nii.gz\n",
      "|       |       \n",
      "|       \\---dwi\n",
      "|               sub-506_ses-01_dwi.bval\n",
      "|               sub-506_ses-01_dwi.bvec\n",
      "|               sub-506_ses-01_dwi.json\n",
      "|               sub-506_ses-01_dwi.nii.gz\n",
      "|               \n",
      "+---sub-507\n",
      "|   +---ses-01\n",
      "|   |   +---anat\n",
      "|   |   |       sub-507_ses-01_T1w.json\n",
      "|   |   |       sub-507_ses-01_T1w.nii.gz\n",
      "|   |   |       sub-507_ses-01_T2w.json\n",
      "|   |   |       sub-507_ses-01_T2w.nii.gz\n",
      "|   |   |       \n",
      "|   |   \\---dwi\n",
      "|   |           sub-507_ses-01_dwi.bval\n",
      "|   |           sub-507_ses-01_dwi.bvec\n",
      "|   |           sub-507_ses-01_dwi.json\n",
      "|   |           sub-507_ses-01_dwi.nii.gz\n",
      "|   |           \n",
      "|   +---ses-02\n",
      "|   |   +---anat\n",
      "|   |   |       sub-507_ses-02_T1w.json\n",
      "|   |   |       sub-507_ses-02_T1w.nii.gz\n",
      "|   |   |       sub-507_ses-02_T2w.json\n",
      "|   |   |       sub-507_ses-02_T2w.nii.gz\n",
      "|   |   |       \n",
      "|   |   +---dwi\n",
      "|   |   |       sub-507_ses-02_dwi.bval\n",
      "|   |   |       sub-507_ses-02_dwi.bvec\n",
      "|   |   |       sub-507_ses-02_dwi.json\n",
      "|   |   |       sub-507_ses-02_dwi.nii.gz\n",
      "|   |   |       \n",
      "|   |   \\---fmap\n",
      "|   |           sub-507_ses-02_T2star.json\n",
      "|   |           sub-507_ses-02_T2star.nii.gz\n",
      "|   |           \n",
      "|   \\---ses-03\n",
      "|       +---anat\n",
      "|       |       sub-507_ses-03_T1w.json\n",
      "|       |       sub-507_ses-03_T1w.nii.gz\n",
      "|       |       sub-507_ses-03_T2w.json\n",
      "|       |       sub-507_ses-03_T2w.nii.gz\n",
      "|       |       \n",
      "|       +---dwi\n",
      "|       |       sub-507_ses-03_dwi.bval\n",
      "|       |       sub-507_ses-03_dwi.bvec\n",
      "|       |       sub-507_ses-03_dwi.json\n",
      "|       |       sub-507_ses-03_dwi.nii.gz\n",
      "|       |       \n",
      "|       \\---fmap\n",
      "|               sub-507_ses-03_phase1.json\n",
      "|               sub-507_ses-03_phase1.nii.gz\n",
      "|               sub-507_ses-03_T2star.json\n",
      "|               sub-507_ses-03_T2star.nii.gz\n",
      "|               \n",
      "+---sub-508\n",
      "|   +---ses-01\n",
      "|   |   +---anat\n",
      "|   |   |       sub-508_ses-01_T1w.json\n",
      "|   |   |       sub-508_ses-01_T1w.nii.gz\n",
      "|   |   |       sub-508_ses-01_T2w.json\n",
      "|   |   |       sub-508_ses-01_T2w.nii.gz\n",
      "|   |   |       \n",
      "|   |   \\---dwi\n",
      "|   |           sub-508_ses-01_dwi.bval\n",
      "|   |           sub-508_ses-01_dwi.bvec\n",
      "|   |           sub-508_ses-01_dwi.json\n",
      "|   |           sub-508_ses-01_dwi.nii.gz\n",
      "|   |           \n",
      "|   +---ses-02\n",
      "|   |   +---anat\n",
      "|   |   |       sub-508_ses-02_T1w.json\n",
      "|   |   |       sub-508_ses-02_T1w.nii.gz\n",
      "|   |   |       sub-508_ses-02_T2w.json\n",
      "|   |   |       sub-508_ses-02_T2w.nii.gz\n",
      "|   |   |       \n",
      "|   |   +---dwi\n",
      "|   |   |       sub-508_ses-02_dwi.bval\n",
      "|   |   |       sub-508_ses-02_dwi.bvec\n",
      "|   |   |       sub-508_ses-02_dwi.json\n",
      "|   |   |       sub-508_ses-02_dwi.nii.gz\n",
      "|   |   |       \n",
      "|   |   \\---fmap\n",
      "|   |           sub-508_ses-02_T2star.json\n",
      "|   |           sub-508_ses-02_T2star.nii.gz\n",
      "|   |           \n",
      "|   \\---ses-03\n",
      "|       +---anat\n",
      "|       |       sub-508_ses-03_T1w.json\n",
      "|       |       sub-508_ses-03_T1w.nii.gz\n",
      "|       |       sub-508_ses-03_T2w.json\n",
      "|       |       sub-508_ses-03_T2w.nii.gz\n",
      "|       |       \n",
      "|       +---dwi\n",
      "|       |       sub-508_ses-03_dwi.bval\n",
      "|       |       sub-508_ses-03_dwi.bvec\n",
      "|       |       sub-508_ses-03_dwi.json\n",
      "|       |       sub-508_ses-03_dwi.nii.gz\n",
      "|       |       \n",
      "|       \\---fmap\n",
      "|               sub-508_ses-03_T2star.json\n",
      "|               sub-508_ses-03_T2star.nii.gz\n",
      "|               \n",
      "\\---sub-510\n",
      "    +---ses-01\n",
      "    |   +---anat\n",
      "    |   |       sub-510_ses-01_T1w.json\n",
      "    |   |       sub-510_ses-01_T1w.nii.gz\n",
      "    |   |       sub-510_ses-01_T2w.json\n",
      "    |   |       sub-510_ses-01_T2w.nii.gz\n",
      "    |   |       \n",
      "    |   \\---dwi\n",
      "    |           sub-510_ses-01_dwi.bval\n",
      "    |           sub-510_ses-01_dwi.bvec\n",
      "    |           sub-510_ses-01_dwi.json\n",
      "    |           sub-510_ses-01_dwi.nii.gz\n",
      "    |           \n",
      "    +---ses-02\n",
      "    |   +---anat\n",
      "    |   |       sub-510_ses-02_T1w.json\n",
      "    |   |       sub-510_ses-02_T1w.nii.gz\n",
      "    |   |       sub-510_ses-02_T2w.json\n",
      "    |   |       sub-510_ses-02_T2w.nii.gz\n",
      "    |   |       \n",
      "    |   +---dwi\n",
      "    |   |       sub-510_ses-02_dwi.bval\n",
      "    |   |       sub-510_ses-02_dwi.bvec\n",
      "    |   |       sub-510_ses-02_dwi.json\n",
      "    |   |       sub-510_ses-02_dwi.nii.gz\n",
      "    |   |       \n",
      "    |   \\---fmap\n",
      "    |           sub-510_ses-02_T2star.json\n",
      "    |           sub-510_ses-02_T2star.nii.gz\n",
      "    |           \n",
      "    \\---ses-03\n",
      "        +---anat\n",
      "        |       sub-510_ses-03_T1w.json\n",
      "        |       sub-510_ses-03_T1w.nii.gz\n",
      "        |       sub-510_ses-03_T2w.json\n",
      "        |       sub-510_ses-03_T2w.nii.gz\n",
      "        |       \n",
      "        +---dwi\n",
      "        |       sub-510_ses-03_dwi.bval\n",
      "        |       sub-510_ses-03_dwi.bvec\n",
      "        |       sub-510_ses-03_dwi.json\n",
      "        |       sub-510_ses-03_dwi.nii.gz\n",
      "        |       \n",
      "        \\---fmap\n",
      "                sub-510_ses-03_T2star.json\n",
      "                sub-510_ses-03_T2star.nii.gz\n",
      "                \n",
      "\n"
     ]
    }
   ],
   "source": [
    "# Linux: cmd = 'tree %s' % (BIDSHOME)\n",
    "cmd = 'tree %s /f /a' % (BIDSHOME)\n",
    "process = os.popen(cmd)\n",
    "o=process.read()\n",
    "print(o)\n",
    "process.close()"
   ]
  },
  {
   "cell_type": "code",
   "execution_count": 122,
   "metadata": {},
   "outputs": [
    {
     "name": "stdout",
     "output_type": "stream",
     "text": [
      "Folder PATH listing for volume Local Disk\n",
      "Volume serial number is 82A6-EE0C\n",
      "C:\\USERS\\ARVID\\PRJ\\AGING\\MY_BIDS\n",
      "|   dataset_description.json\n",
      "|   participants.json\n",
      "|   participants.tsv\n",
      "|   \n",
      "\\---sub-507\n",
      "    +---ses-01\n",
      "    |   +---anat\n",
      "    |   |       sub-507_ses-01_acq-1_T1w.json\n",
      "    |   |       sub-507_ses-01_acq-1_T1w.nii.gz\n",
      "    |   |       sub-507_ses-01_acq-2_T1w.json\n",
      "    |   |       sub-507_ses-01_acq-2_T1w.nii.gz\n",
      "    |   |       \n",
      "    |   \\---dwi\n",
      "    |           sub-507_ses-01_dwi.bval\n",
      "    |           sub-507_ses-01_dwi.bvec\n",
      "    |           sub-507_ses-01_dwi.json\n",
      "    |           sub-507_ses-01_dwi.nii.gz\n",
      "    |           \n",
      "    +---ses-02\n",
      "    |   +---anat\n",
      "    |   |       sub-507_ses-02_acq-1_T1w.json\n",
      "    |   |       sub-507_ses-02_acq-1_T1w.nii.gz\n",
      "    |   |       sub-507_ses-02_acq-2_T1w.json\n",
      "    |   |       sub-507_ses-02_acq-2_T1w.nii.gz\n",
      "    |   |       \n",
      "    |   +---dwi\n",
      "    |   |       sub-507_ses-02_dwi.bval\n",
      "    |   |       sub-507_ses-02_dwi.bvec\n",
      "    |   |       sub-507_ses-02_dwi.json\n",
      "    |   |       sub-507_ses-02_dwi.nii.gz\n",
      "    |   |       \n",
      "    |   \\---func\n",
      "    |           sub-507_ses-02_task-rest_bold.json\n",
      "    |           sub-507_ses-02_task-rest_bold.nii.gz\n",
      "    |           \n",
      "    \\---ses-03\n",
      "        +---anat\n",
      "        |       sub-507_ses-03_acq-1_T1w.json\n",
      "        |       sub-507_ses-03_acq-1_T1w.nii.gz\n",
      "        |       sub-507_ses-03_acq-2_T1w.json\n",
      "        |       sub-507_ses-03_acq-2_T1w.nii.gz\n",
      "        |       \n",
      "        +---dwi\n",
      "        |       sub-507_ses-03_dwi.bval\n",
      "        |       sub-507_ses-03_dwi.bvec\n",
      "        |       sub-507_ses-03_dwi.json\n",
      "        |       sub-507_ses-03_dwi.nii.gz\n",
      "        |       \n",
      "        \\---func\n",
      "                sub-507_ses-03_task-rest_bold.json\n",
      "                sub-507_ses-03_task-rest_bold.nii.gz\n",
      "                \n",
      "\n"
     ]
    }
   ],
   "source": [
    "# Linux: cmd = 'tree %s' % (BIDSHOME)\n",
    "cmd = 'tree %s /f /a' % (myBIDSHOME)\n",
    "process = os.popen(cmd)\n",
    "o=process.read()\n",
    "print(o)\n",
    "process.close()"
   ]
  },
  {
   "cell_type": "markdown",
   "metadata": {},
   "source": [
    "Command line version:\n",
    "Install [Node.js](https://nodejs.org) (at least version 8.0)<br>\n",
    "From a terminal run `npm install -g bids-validator`<br>\n",
    "Run `bids-validator` to start validating datasets."
   ]
  },
  {
   "cell_type": "code",
   "execution_count": 161,
   "metadata": {},
   "outputs": [
    {
     "name": "stdout",
     "output_type": "stream",
     "text": [
      "\t\u001b[33m1: [WARN] You should define 'SliceTiming' for this file. If you don't provide this information slice time correction will not be possible. (code: 13 - SLICE_TIMING_NOT_DEFINED)\u001b[39m\n",
      "\t\t./sub-507/ses-03/func/sub-507_ses-03_task-rest_bold.nii.gz\n",
      "\t\t\tYou should define 'SliceTiming' for this file. If you don't provide this information slice time correction will not be possible. It can be included one of the following locations: /task-rest_bold.json, /bold.json, /sub-507/sub-507_task-rest_bold.json, /sub-507/sub-507_bold.json, /sub-507/ses-03/sub-507_ses-03_task-rest_bold.json, /sub-507/ses-03/sub-507_ses-03_bold.json, /sub-507/ses-03/func/sub-507_ses-03_task-rest_bold.json, /sub-507/ses-03/func/sub-507_ses-03_bold.json\n",
      "\n",
      "        \u001b[34m\u001b[4mSummary:\u001b[24m\u001b[39m                  \u001b[34m\u001b[4mAvailable Tasks:\u001b[24m\u001b[39m        \u001b[34m\u001b[4mAvailable Modalities:\u001b[24m\u001b[39m \n",
      "        31 Files, 236.85MB        rest                    /participants         \n",
      "        1 - Subject                                       T1w                   \n",
      "        3 - Sessions                                      dwi                   \n",
      "                                                          bold                  \n",
      "\n",
      "\u001b[37mIf you have any questions please post on https://neurostars.org/tags/bids\u001b[39m\n",
      "\n",
      "\n"
     ]
    }
   ],
   "source": [
    "cmd = 'bids-validator %s --verbose' % myBIDSHOME\n",
    "process = os.popen(cmd)\n",
    "o=process.read()\n",
    "print(o)\n",
    "process.close()"
   ]
  },
  {
   "cell_type": "code",
   "execution_count": 124,
   "metadata": {},
   "outputs": [
    {
     "data": {
      "text/plain": [
       "'C:/Users/arvid/prj/Aging/bids/participants.json'"
      ]
     },
     "execution_count": 124,
     "metadata": {},
     "output_type": "execute_result"
    }
   ],
   "source": [
    "fn = BIDSHOME+'/participants.json'\n",
    "fn"
   ]
  },
  {
   "cell_type": "code",
   "execution_count": 125,
   "metadata": {},
   "outputs": [],
   "source": [
    "with open(fn) as data_file:    \n",
    "    data = json.load(data_file)"
   ]
  },
  {
   "cell_type": "code",
   "execution_count": 126,
   "metadata": {},
   "outputs": [
    {
     "data": {
      "text/plain": [
       "dict_keys(['age', 'gender', 'group', 'participant_id'])"
      ]
     },
     "execution_count": 126,
     "metadata": {},
     "output_type": "execute_result"
    }
   ],
   "source": [
    "data.keys()"
   ]
  },
  {
   "cell_type": "code",
   "execution_count": 127,
   "metadata": {},
   "outputs": [],
   "source": [
    "# Rename dictionary key\n",
    "#data['group'] = data.pop('cat')"
   ]
  },
  {
   "cell_type": "code",
   "execution_count": 128,
   "metadata": {
    "scrolled": false
   },
   "outputs": [
    {
     "name": "stdout",
     "output_type": "stream",
     "text": [
      "{'age': {'Description': 'age of the participant', 'Units': 'years'},\n",
      " 'gender': {'Description': 'sex of the participant',\n",
      "            'Levels': {'F': 'female', 'M': 'male'}},\n",
      " 'group': {'Description': 'group the participant belonged to in the study',\n",
      "           'Levels': {'HC': 'Healthy control',\n",
      "                      'IBS': 'Irritable bowel syndrome'}},\n",
      " 'participant_id': {'Description': 'id of the participant'}}\n"
     ]
    }
   ],
   "source": [
    "pprint(data)"
   ]
  },
  {
   "cell_type": "code",
   "execution_count": 129,
   "metadata": {},
   "outputs": [
    {
     "name": "stdout",
     "output_type": "stream",
     "text": [
      "'Irritable bowel syndrome'\n"
     ]
    }
   ],
   "source": [
    "pprint(data['group']['Levels']['IBS'])"
   ]
  },
  {
   "cell_type": "code",
   "execution_count": 130,
   "metadata": {},
   "outputs": [],
   "source": [
    "data['group']['Levels']['IBS'] = 'Irritable bowel syndrome'"
   ]
  },
  {
   "cell_type": "code",
   "execution_count": 131,
   "metadata": {},
   "outputs": [
    {
     "name": "stdout",
     "output_type": "stream",
     "text": [
      "{'age': {'Description': 'age of the participant', 'Units': 'years'},\n",
      " 'gender': {'Description': 'sex of the participant',\n",
      "            'Levels': {'F': 'female', 'M': 'male'}},\n",
      " 'group': {'Description': 'group the participant belonged to in the study',\n",
      "           'Levels': {'HC': 'Healthy control',\n",
      "                      'IBS': 'Irritable bowel syndrome'}},\n",
      " 'participant_id': {'Description': 'id of the participant'}}\n"
     ]
    }
   ],
   "source": [
    "pprint(data)"
   ]
  },
  {
   "cell_type": "code",
   "execution_count": 132,
   "metadata": {},
   "outputs": [
    {
     "name": "stdout",
     "output_type": "stream",
     "text": [
      "{'Description': 'id of the participant'}\n"
     ]
    }
   ],
   "source": [
    "pprint(data['participant_id'])"
   ]
  },
  {
   "cell_type": "code",
   "execution_count": 134,
   "metadata": {},
   "outputs": [],
   "source": [
    "with open(fn, 'w') as outfile:\n",
    "    json.dump(data, outfile, sort_keys=True, indent=4)"
   ]
  },
  {
   "cell_type": "code",
   "execution_count": 158,
   "metadata": {},
   "outputs": [],
   "source": [
    "# fn1 = myBIDSHOME+'/sub-507/ses-01/func/sub-507_ses-01_task-rest_bold.json'\n",
    "fn2 = myBIDSHOME+'/sub-507/ses-02/func/sub-507_ses-02_task-rest_bold.json'\n",
    "fn3 = myBIDSHOME+'/sub-507/ses-03/func/sub-507_ses-03_task-rest_bold.json'"
   ]
  },
  {
   "cell_type": "code",
   "execution_count": 160,
   "metadata": {},
   "outputs": [
    {
     "name": "stdout",
     "output_type": "stream",
     "text": [
      "{'AcquisitionMatrixPE': 64,\n",
      " 'AcquisitionNumber': 1,\n",
      " 'AcquisitionTime': '15:10:6.000000',\n",
      " 'CoilString': '8HRBRAIN',\n",
      " 'ConversionSoftware': 'dcm2niix',\n",
      " 'ConversionSoftwareVersion': 'v1.0.20181114  MSC1900',\n",
      " 'DeviceSerialNumber': '000000NO1146MR01',\n",
      " 'EchoTime': 0.05,\n",
      " 'EffectiveEchoSpacing': 0.000464,\n",
      " 'FlipAngle': 90,\n",
      " 'ImageOrientationPatientDICOM': [1, 0, 0, 0, 1, 0],\n",
      " 'ImageType': ['ORIGINAL', 'PRIMARY', 'EPI', 'NONE'],\n",
      " 'ImagingFrequency': 63.8442,\n",
      " 'InPlanePhaseEncodingDirectionDICOM': 'COL',\n",
      " 'InstitutionName': 'DS_Haraldsplass',\n",
      " 'MRAcquisitionType': '2D',\n",
      " 'MagneticFieldStrength': 1.5,\n",
      " 'Manufacturer': 'GE',\n",
      " 'ManufacturersModelName': 'SIGNA_EXCITE',\n",
      " 'Modality': 'MR',\n",
      " 'PatientPosition': 'HFS',\n",
      " 'PercentPhaseFOV': 100,\n",
      " 'PhaseEncodingDirection': 'j-',\n",
      " 'PhaseEncodingPolarityGE': 'Unflipped',\n",
      " 'PixelBandwidth': 7812.5,\n",
      " 'ProcedureStepDescription': 'AGING',\n",
      " 'ProtocolName': 'AX_fMRI_GRE_EPI_RESTING',\n",
      " 'ReconMatrixPE': 64,\n",
      " 'RepetitionTime': 2,\n",
      " 'SAR': 0.0235439,\n",
      " 'ScanOptions': 'EPI_GEMS_PFF',\n",
      " 'ScanningSequence': 'EP_GR',\n",
      " 'SequenceVariant': 'SS',\n",
      " 'SeriesDescription': 'AX_fMRI_GRE_EPI_RESTING',\n",
      " 'SeriesNumber': 5,\n",
      " 'SliceThickness': 5,\n",
      " 'SliceTiming': [0.96,\n",
      "                 1.92,\n",
      "                 0.88,\n",
      "                 1.84,\n",
      "                 0.8,\n",
      "                 1.76,\n",
      "                 0.72,\n",
      "                 1.68,\n",
      "                 0.64,\n",
      "                 1.6,\n",
      "                 0.56,\n",
      "                 1.52,\n",
      "                 0.48,\n",
      "                 1.44,\n",
      "                 0.4,\n",
      "                 1.36,\n",
      "                 0.32,\n",
      "                 1.28,\n",
      "                 0.24,\n",
      "                 1.2,\n",
      "                 0.16,\n",
      "                 1.12,\n",
      "                 0.08,\n",
      "                 1.04,\n",
      "                 0],\n",
      " 'SoftwareVersions': '12_LX_MR_Software_release:12.0_M5A_0819.a',\n",
      " 'SpacingBetweenSlices': 5.5,\n",
      " 'StationName': 'GEMSOW',\n",
      " 'TaskName': 'rest',\n",
      " 'TotalReadoutTime': 0.029232}\n"
     ]
    }
   ],
   "source": [
    "with open(fn2) as data_file2:    \n",
    "    data2 = json.load(data_file2)\n",
    "    pprint(data2)"
   ]
  },
  {
   "cell_type": "markdown",
   "metadata": {},
   "source": [
    "**TaskName**\n",
    "\n",
    "Let's begin with the defining `TaskName`. To do this, we will be editing the functional scan's json files. There are required fields that need to be present in each func json file. For this dataset, we notice upon opening the json's that they have defined repetition time and slice timing, but not task name. The task name needs to be the same name given as the task-<TaskName> in the filename. For example sub-101_ses-1_task-rest_bold.json ; the json will have 'TaskName': 'rest, "
   ]
  },
  {
   "cell_type": "code",
   "execution_count": 147,
   "metadata": {},
   "outputs": [
    {
     "data": {
      "text/plain": [
       "dict_items([('Modality', 'MR'), ('MagneticFieldStrength', 1.5), ('ImagingFrequency', 63.8442), ('Manufacturer', 'GE'), ('ManufacturersModelName', 'SIGNA_EXCITE'), ('InstitutionName', 'DS_Haraldsplass'), ('DeviceSerialNumber', '000000NO1146MR01'), ('StationName', 'GEMSOW'), ('PatientPosition', 'HFS'), ('ProcedureStepDescription', 'AGING'), ('SoftwareVersions', '12_LX_MR_Software_release:12.0_M5A_0819.a'), ('MRAcquisitionType', '2D'), ('SeriesDescription', 'AX_fMRI_GRE_EPI_RESTING'), ('ProtocolName', 'AX_fMRI_GRE_EPI_RESTING'), ('ScanningSequence', 'EP_GR'), ('SequenceVariant', 'SS'), ('ScanOptions', 'EPI_GEMS_PFF'), ('ImageType', ['ORIGINAL', 'PRIMARY', 'EPI', 'NONE']), ('SeriesNumber', 5), ('AcquisitionTime', '15:10:6.000000'), ('AcquisitionNumber', 1), ('SliceThickness', 5), ('SpacingBetweenSlices', 5.5), ('SAR', 0.0235439), ('EchoTime', 0.05), ('RepetitionTime', 2), ('FlipAngle', 90), ('PhaseEncodingPolarityGE', 'Unflipped'), ('CoilString', '8HRBRAIN'), ('PercentPhaseFOV', 100), ('AcquisitionMatrixPE', 64), ('ReconMatrixPE', 64), ('EffectiveEchoSpacing', 0.000464), ('TotalReadoutTime', 0.029232), ('PixelBandwidth', 7812.5), ('PhaseEncodingDirection', 'j-'), ('ImageOrientationPatientDICOM', [1, 0, 0, 0, 1, 0]), ('InPlanePhaseEncodingDirectionDICOM', 'COL'), ('ConversionSoftware', 'dcm2niix'), ('ConversionSoftwareVersion', 'v1.0.20181114  MSC1900')])"
      ]
     },
     "execution_count": 147,
     "metadata": {},
     "output_type": "execute_result"
    }
   ],
   "source": [
    "data2.items()"
   ]
  },
  {
   "cell_type": "code",
   "execution_count": 148,
   "metadata": {},
   "outputs": [
    {
     "name": "stdout",
     "output_type": "stream",
     "text": [
      "{'AcquisitionMatrixPE': 64,\n",
      " 'AcquisitionNumber': 1,\n",
      " 'AcquisitionTime': '15:10:6.000000',\n",
      " 'CoilString': '8HRBRAIN',\n",
      " 'ConversionSoftware': 'dcm2niix',\n",
      " 'ConversionSoftwareVersion': 'v1.0.20181114  MSC1900',\n",
      " 'DeviceSerialNumber': '000000NO1146MR01',\n",
      " 'EchoTime': 0.05,\n",
      " 'EffectiveEchoSpacing': 0.000464,\n",
      " 'FlipAngle': 90,\n",
      " 'ImageOrientationPatientDICOM': [1, 0, 0, 0, 1, 0],\n",
      " 'ImageType': ['ORIGINAL', 'PRIMARY', 'EPI', 'NONE'],\n",
      " 'ImagingFrequency': 63.8442,\n",
      " 'InPlanePhaseEncodingDirectionDICOM': 'COL',\n",
      " 'InstitutionName': 'DS_Haraldsplass',\n",
      " 'MRAcquisitionType': '2D',\n",
      " 'MagneticFieldStrength': 1.5,\n",
      " 'Manufacturer': 'GE',\n",
      " 'ManufacturersModelName': 'SIGNA_EXCITE',\n",
      " 'Modality': 'MR',\n",
      " 'PatientPosition': 'HFS',\n",
      " 'PercentPhaseFOV': 100,\n",
      " 'PhaseEncodingDirection': 'j-',\n",
      " 'PhaseEncodingPolarityGE': 'Unflipped',\n",
      " 'PixelBandwidth': 7812.5,\n",
      " 'ProcedureStepDescription': 'AGING',\n",
      " 'ProtocolName': 'AX_fMRI_GRE_EPI_RESTING',\n",
      " 'ReconMatrixPE': 64,\n",
      " 'RepetitionTime': 2,\n",
      " 'SAR': 0.0235439,\n",
      " 'ScanOptions': 'EPI_GEMS_PFF',\n",
      " 'ScanningSequence': 'EP_GR',\n",
      " 'SequenceVariant': 'SS',\n",
      " 'SeriesDescription': 'AX_fMRI_GRE_EPI_RESTING',\n",
      " 'SeriesNumber': 5,\n",
      " 'SliceThickness': 5,\n",
      " 'SoftwareVersions': '12_LX_MR_Software_release:12.0_M5A_0819.a',\n",
      " 'SpacingBetweenSlices': 5.5,\n",
      " 'StationName': 'GEMSOW',\n",
      " 'TaskName': 'rest',\n",
      " 'TotalReadoutTime': 0.029232}\n"
     ]
    }
   ],
   "source": [
    "data2.update({'TaskName': 'rest'})\n",
    "pprint(data2)"
   ]
  },
  {
   "cell_type": "code",
   "execution_count": 149,
   "metadata": {},
   "outputs": [
    {
     "name": "stdout",
     "output_type": "stream",
     "text": [
      "{'AcquisitionMatrixPE': 64,\n",
      " 'AcquisitionNumber': 1,\n",
      " 'AcquisitionTime': '15:10:6.000000',\n",
      " 'CoilString': '8HRBRAIN',\n",
      " 'ConversionSoftware': 'dcm2niix',\n",
      " 'ConversionSoftwareVersion': 'v1.0.20181114  MSC1900',\n",
      " 'DeviceSerialNumber': '000000NO1146MR01',\n",
      " 'EchoTime': 0.05,\n",
      " 'EffectiveEchoSpacing': 0.000464,\n",
      " 'FlipAngle': 90,\n",
      " 'ImageOrientationPatientDICOM': [1, 0, 0, 0, 1, 0],\n",
      " 'ImageType': ['ORIGINAL', 'PRIMARY', 'EPI', 'NONE'],\n",
      " 'ImagingFrequency': 63.8442,\n",
      " 'InPlanePhaseEncodingDirectionDICOM': 'COL',\n",
      " 'InstitutionName': 'DS_Haraldsplass',\n",
      " 'MRAcquisitionType': '2D',\n",
      " 'MagneticFieldStrength': 1.5,\n",
      " 'Manufacturer': 'GE',\n",
      " 'ManufacturersModelName': 'SIGNA_EXCITE',\n",
      " 'Modality': 'MR',\n",
      " 'PatientPosition': 'HFS',\n",
      " 'PercentPhaseFOV': 100,\n",
      " 'PhaseEncodingDirection': 'j-',\n",
      " 'PhaseEncodingPolarityGE': 'Unflipped',\n",
      " 'PixelBandwidth': 7812.5,\n",
      " 'ProcedureStepDescription': 'AGING',\n",
      " 'ProtocolName': 'AX_fMRI_GRE_EPI_RESTING',\n",
      " 'ReconMatrixPE': 64,\n",
      " 'RepetitionTime': 2,\n",
      " 'SAR': 0.0235439,\n",
      " 'ScanOptions': 'EPI_GEMS_PFF',\n",
      " 'ScanningSequence': 'EP_GR',\n",
      " 'SequenceVariant': 'SS',\n",
      " 'SeriesDescription': 'AX_fMRI_GRE_EPI_RESTING',\n",
      " 'SeriesNumber': 5,\n",
      " 'SliceThickness': 5,\n",
      " 'SoftwareVersions': '12_LX_MR_Software_release:12.0_M5A_0819.a',\n",
      " 'SpacingBetweenSlices': 5.5,\n",
      " 'StationName': 'GEMSOW',\n",
      " 'TaskName': 'rest',\n",
      " 'TotalReadoutTime': 0.029232}\n"
     ]
    }
   ],
   "source": [
    "with open(fn2) as data_file2:    \n",
    "    data2 = json.load(data_file2)\n",
    "data2.update({'TaskName': 'rest'})\n",
    "pprint(data2)"
   ]
  },
  {
   "cell_type": "code",
   "execution_count": 151,
   "metadata": {},
   "outputs": [
    {
     "name": "stdout",
     "output_type": "stream",
     "text": [
      "{'AcquisitionMatrixPE': 64,\n",
      " 'AcquisitionNumber': 1,\n",
      " 'AcquisitionTime': '11:49:56.000000',\n",
      " 'CoilString': '8HRBRAIN',\n",
      " 'ConversionSoftware': 'dcm2niix',\n",
      " 'ConversionSoftwareVersion': 'v1.0.20181114  MSC1900',\n",
      " 'DeviceSerialNumber': '000000NO1146MR01',\n",
      " 'EchoTime': 0.05,\n",
      " 'EffectiveEchoSpacing': 0.000464,\n",
      " 'FlipAngle': 90,\n",
      " 'ImageOrientationPatientDICOM': [1, 0, 0, 0, 0.978081, -0.208226],\n",
      " 'ImageType': ['ORIGINAL', 'PRIMARY', 'EPI', 'NONE'],\n",
      " 'ImagingFrequency': 63.844,\n",
      " 'InPlanePhaseEncodingDirectionDICOM': 'COL',\n",
      " 'InstitutionName': 'DS_Haraldsplass',\n",
      " 'MRAcquisitionType': '2D',\n",
      " 'MagneticFieldStrength': 1.5,\n",
      " 'Manufacturer': 'GE',\n",
      " 'ManufacturersModelName': 'SIGNA_EXCITE',\n",
      " 'Modality': 'MR',\n",
      " 'PatientPosition': 'HFS',\n",
      " 'PercentPhaseFOV': 100,\n",
      " 'PhaseEncodingDirection': 'j-',\n",
      " 'PhaseEncodingPolarityGE': 'Unflipped',\n",
      " 'PixelBandwidth': 7812.5,\n",
      " 'ProtocolName': 'AX_fMRI_GRE_EPI_RESTING',\n",
      " 'ReconMatrixPE': 64,\n",
      " 'RepetitionTime': 2,\n",
      " 'SAR': 0.0235439,\n",
      " 'ScanOptions': 'EPI_GEMS_PFF',\n",
      " 'ScanningSequence': 'EP_GR',\n",
      " 'SequenceVariant': 'SS',\n",
      " 'SeriesDescription': 'AX_fMRI_GRE_EPI_RESTING',\n",
      " 'SeriesNumber': 5,\n",
      " 'SliceThickness': 5,\n",
      " 'SoftwareVersions': '12_LX_MR_Software_release:12.0_M5B_0846.d',\n",
      " 'SpacingBetweenSlices': 5.5,\n",
      " 'StationName': 'GEMSOW',\n",
      " 'TaskName': 'rest',\n",
      " 'TotalReadoutTime': 0.029232}\n"
     ]
    }
   ],
   "source": [
    "with open(fn3) as data_file3:    \n",
    "    data3 = json.load(data_file3)\n",
    "data3.update({'TaskName': 'rest'})\n",
    "pprint(data3)"
   ]
  },
  {
   "cell_type": "code",
   "execution_count": 152,
   "metadata": {},
   "outputs": [],
   "source": [
    "with open(fn2, 'w') as outfile2:\n",
    "    json.dump(data2, outfile2, sort_keys=True, indent=4)"
   ]
  },
  {
   "cell_type": "code",
   "execution_count": 153,
   "metadata": {},
   "outputs": [],
   "source": [
    "with open(fn3, 'w') as outfile3:\n",
    "    json.dump(data3, outfile3, sort_keys=True, indent=4)"
   ]
  },
  {
   "cell_type": "markdown",
   "metadata": {},
   "source": [
    "**SliceTiming**\n",
    "\n",
    "RECOMMENDED. The time at which each slice was acquired within each volume (frame) of the acquisition. Slice timing is not slice order -- rather, it is a list of times (in JSON format) containing the time (in seconds) of each slice acquisition in relation to the beginning of volume acquisition. The list goes through the slices along the slice axis in the slice encoding dimension (see below). Note that to ensure the proper interpretation of the `SliceTiming` field, it is important to check if the OPTIONAL `SliceEncodingDirection` exists. In particular, if `SliceEncodingDirection` is negative, the entries in `SliceTiming` are defined in reverse order with respect to the slice axis (i.e., the final entry in the `SliceTiming` list is the time of acquisition of slice 0). This parameter is REQUIRED for sparse sequences that do not have the DelayTime field set. In addition without this parameter slice time correction will not be possible.\n",
    "\n",
    "Please note that some DICOM parameters have been traditionally expressed in milliseconds. Those need to be converted to seconds.\n",
    "\n",
    "See also: https://github.com/rordenlab/dcm2niix/issues/163   and https://github.com/rordenlab/dcm2niix/tree/master/GE\n",
    "\n",
    "One other suggestion - you may want to try [Xiangrui Li's dicm2nii](https://www.mathworks.com/matlabcentral/fileexchange/42997-dicom-to-nifti-converter--nifti-tool-and-viewer). I think he devoted more time than me in attempting to decode GE datasets. You may find that it provides a richer set of BIDS data than dcm2niix."
   ]
  },
  {
   "cell_type": "code",
   "execution_count": 155,
   "metadata": {},
   "outputs": [
    {
     "ename": "KeyError",
     "evalue": "'SliceTiming'",
     "output_type": "error",
     "traceback": [
      "\u001b[1;31m---------------------------------------------------------------------------\u001b[0m",
      "\u001b[1;31mKeyError\u001b[0m                                  Traceback (most recent call last)",
      "\u001b[1;32m<ipython-input-155-d3189bee03ed>\u001b[0m in \u001b[0;36m<module>\u001b[1;34m\u001b[0m\n\u001b[1;32m----> 1\u001b[1;33m \u001b[0mst2\u001b[0m \u001b[1;33m=\u001b[0m \u001b[0mdata2\u001b[0m\u001b[1;33m[\u001b[0m\u001b[1;34m'SliceTiming'\u001b[0m\u001b[1;33m]\u001b[0m\u001b[1;33m\u001b[0m\u001b[0m\n\u001b[0m\u001b[0;32m      2\u001b[0m \u001b[0mprint\u001b[0m\u001b[1;33m(\u001b[0m\u001b[0mst2\u001b[0m\u001b[1;33m)\u001b[0m\u001b[1;33m\u001b[0m\u001b[0m\n\u001b[0;32m      3\u001b[0m \u001b[0marr2\u001b[0m \u001b[1;33m=\u001b[0m \u001b[0mnp\u001b[0m\u001b[1;33m.\u001b[0m\u001b[0marray\u001b[0m\u001b[1;33m(\u001b[0m\u001b[0mst2\u001b[0m\u001b[1;33m)\u001b[0m\u001b[1;33m\u001b[0m\u001b[0m\n\u001b[0;32m      4\u001b[0m \u001b[0mprint\u001b[0m\u001b[1;33m(\u001b[0m\u001b[0mlist\u001b[0m\u001b[1;33m(\u001b[0m\u001b[0marr2\u001b[0m\u001b[1;33m/\u001b[0m\u001b[1;36m1000\u001b[0m\u001b[1;33m)\u001b[0m\u001b[1;33m)\u001b[0m\u001b[1;33m\u001b[0m\u001b[0m\n\u001b[0;32m      5\u001b[0m \u001b[1;31m#data1['SliceTiming'] = list(arr1/10000)\u001b[0m\u001b[1;33m\u001b[0m\u001b[1;33m\u001b[0m\u001b[0m\n",
      "\u001b[1;31mKeyError\u001b[0m: 'SliceTiming'"
     ]
    }
   ],
   "source": [
    "st2 = data2['SliceTiming']\n",
    "print(st2)\n",
    "arr2 = np.array(st2)\n",
    "print(list(arr2/1000))\n",
    "#data1['SliceTiming'] = list(arr1/10000)"
   ]
  },
  {
   "cell_type": "markdown",
   "metadata": {},
   "source": [
    "From dicm2nii.m 20190214 \n",
    "\n",
    "```python\n",
    ">> addpath 'C:/Users/arvid/GitHub/dicm2nii' -end\n",
    ">> >> dicm2nii('D:/Aging/Dicom/Wave2/subj_507', 'C:\\Users\\arvid\\prj\\Aging\\Nifti_dicm2nii\\Wave2\\subj_507', 'bids');\n",
    "\n",
    "With GUI entries:\n",
    "    \n",
    "sub-507_ses-02_T2star.json\n",
    "\n",
    "\n",
    "\"ConversionSoftware\": \"dicm2nii.m 20190214\",\n",
    "\t\"SeriesNumber\": 5,\n",
    "\t\"SeriesDescription\": \"AX fMRI_GRE_EPI RESTING\",\n",
    "\t\"ImageType\": [\"ORIGINAL\", \"PRIMARY\", \"EPI\", \"NONE\"],\n",
    "\t\"Modality\": \"MR\",\n",
    "\t\"AcquisitionDateTime\": \"20090207151006\",\n",
    "\t\"TotalReadoutTime\": 0.029232,\n",
    "``` \n",
    "\t\"SliceTiming\": [\n",
    "\t\t0.96,\n",
    "\t\t1.92,\n",
    "\t\t0.88,\n",
    "\t\t1.84,\n",
    "\t\t0.8,\n",
    "\t\t1.76,\n",
    "\t\t0.72,\n",
    "\t\t1.68,\n",
    "\t\t0.64,\n",
    "\t\t1.6,\n",
    "\t\t0.56,\n",
    "\t\t1.52,\n",
    "\t\t0.48,\n",
    "\t\t1.44,\n",
    "\t\t0.4,\n",
    "\t\t1.36,\n",
    "\t\t0.32,\n",
    "\t\t1.28,\n",
    "\t\t0.24,\n",
    "\t\t1.2,\n",
    "\t\t0.16,\n",
    "\t\t1.12,\n",
    "\t\t0.08,\n",
    "\t\t1.04,\n",
    "\t\t0\t],\n",
    "```python\n",
    "\t\"RepetitionTime\": 2,\n",
    "\t\"PhaseEncodingDirection\": \"j-\",\n",
    "\t\"EffectiveEchoSpacing\": 0.000464,\n",
    "\t\"EchoTime\": 0.05,\n",
    "\t\"InversionTime\": 0,\n",
    "\t\"PatientName\": \"AGING_2009_02_07_ITH\",\n",
    "\t\"PatientSex\": \"F\",\n",
    "\t\"PatientAge\": \"060Y\",\n",
    "\t\"PatientWeight\": 66,\n",
    "\t\"PatientPosition\": \"HFS\",\n",
    "\t\"SliceThickness\": 5,\n",
    "\t\"FlipAngle\": 90,\n",
    "\t\"Manufacturer\": \"GE MEDICAL SYSTEMS\",\n",
    "\t\"SoftwareVersion\": \"12\\\\LX\\\\MR Software release:12.0_M5A_0819.a\",\n",
    "\t\"MRAcquisitionType\": \"2D\",\n",
    "\t\"InstitutionName\": \"DS Haraldsplass\",\n",
    "\t\"DeviceSerialNumber\": \"000000NO1146MR01\",\n",
    "\t\"ScanningSequence\": \"EP\\\\GR\",\n",
    "\t\"SequenceVariant\": \"SS\",\n",
    "\t\"ScanOptions\": \"EPI_GEMS\\\\PFF\",\n",
    "\t\"SequenceName\": \"EPI\"\n",
    "}\n",
    "``` "
   ]
  },
  {
   "cell_type": "code",
   "execution_count": 156,
   "metadata": {},
   "outputs": [],
   "source": [
    "data2['SliceTiming'] =[\n",
    "    0.96,\n",
    "    1.92,\n",
    "    0.88,\n",
    "    1.84,\n",
    "    0.8,\n",
    "    1.76,\n",
    "    0.72,\n",
    "    1.68,\n",
    "    0.64,\n",
    "    1.6,\n",
    "    0.56,\n",
    "    1.52,\n",
    "    0.48,\n",
    "    1.44,\n",
    "    0.4,\n",
    "    1.36,\n",
    "    0.32,\n",
    "    1.28,\n",
    "    0.24,\n",
    "    1.2,\n",
    "    0.16,\n",
    "    1.12,\n",
    "    0.08,\n",
    "    1.04,\n",
    "    0]   "
   ]
  },
  {
   "cell_type": "code",
   "execution_count": 157,
   "metadata": {},
   "outputs": [],
   "source": [
    "with open(fn2, 'w') as outfile2:\n",
    "    json.dump(data2, outfile2, sort_keys=True, indent=4)"
   ]
  },
  {
   "cell_type": "code",
   "execution_count": 162,
   "metadata": {},
   "outputs": [
    {
     "ename": "KeyError",
     "evalue": "'SliceTiming'",
     "output_type": "error",
     "traceback": [
      "\u001b[1;31m---------------------------------------------------------------------------\u001b[0m",
      "\u001b[1;31mKeyError\u001b[0m                                  Traceback (most recent call last)",
      "\u001b[1;32m<ipython-input-162-1c6e48e07f8d>\u001b[0m in \u001b[0;36m<module>\u001b[1;34m\u001b[0m\n\u001b[1;32m----> 1\u001b[1;33m \u001b[0mst3\u001b[0m \u001b[1;33m=\u001b[0m \u001b[0mdata3\u001b[0m\u001b[1;33m[\u001b[0m\u001b[1;34m'SliceTiming'\u001b[0m\u001b[1;33m]\u001b[0m\u001b[1;33m\u001b[0m\u001b[0m\n\u001b[0m\u001b[0;32m      2\u001b[0m \u001b[0mprint\u001b[0m\u001b[1;33m(\u001b[0m\u001b[0mst3\u001b[0m\u001b[1;33m)\u001b[0m\u001b[1;33m\u001b[0m\u001b[0m\n\u001b[0;32m      3\u001b[0m \u001b[0marr3\u001b[0m \u001b[1;33m=\u001b[0m \u001b[0mnp\u001b[0m\u001b[1;33m.\u001b[0m\u001b[0marray\u001b[0m\u001b[1;33m(\u001b[0m\u001b[0mst3\u001b[0m\u001b[1;33m)\u001b[0m\u001b[1;33m\u001b[0m\u001b[0m\n\u001b[0;32m      4\u001b[0m \u001b[0mprint\u001b[0m\u001b[1;33m(\u001b[0m\u001b[0mlist\u001b[0m\u001b[1;33m(\u001b[0m\u001b[0marr2\u001b[0m\u001b[1;33m/\u001b[0m\u001b[1;36m1000\u001b[0m\u001b[1;33m)\u001b[0m\u001b[1;33m)\u001b[0m\u001b[1;33m\u001b[0m\u001b[0m\n\u001b[0;32m      5\u001b[0m \u001b[1;31m#data2['SliceTiming'] = list(arr2/1000)\u001b[0m\u001b[1;33m\u001b[0m\u001b[1;33m\u001b[0m\u001b[0m\n",
      "\u001b[1;31mKeyError\u001b[0m: 'SliceTiming'"
     ]
    }
   ],
   "source": [
    "st3 = data3['SliceTiming']\n",
    "print(st3)\n",
    "arr3 = np.array(st3)\n",
    "print(list(arr2/1000))\n",
    "#data2['SliceTiming'] = list(arr2/1000)"
   ]
  },
  {
   "cell_type": "markdown",
   "metadata": {},
   "source": [
    "Similar for Wave3 (sub-507_ses-03_T2star.json) <br>\n",
    "\"AcquisitionDateTime\": \"20110515114956\", <br>\n",
    "\"TotalReadoutTime\": 0.029232,"
   ]
  },
  {
   "cell_type": "code",
   "execution_count": 163,
   "metadata": {},
   "outputs": [],
   "source": [
    "data3['SliceTiming'] = [0.96, 1.92, 0.88, 1.84, 0.8, 1.76, 0.72, 1.68, 0.64, 1.6, 0.56, 1.52, 0.48, 1.44, 0.4, 1.36, 0.32, 1.28, 0.24, 1.2, 0.16, 1.12, 0.08, 1.04, 0]"
   ]
  },
  {
   "cell_type": "code",
   "execution_count": 164,
   "metadata": {},
   "outputs": [],
   "source": [
    "with open(fn3, 'w') as outfile3:\n",
    "    json.dump(data3, outfile3, sort_keys=True, indent=4)"
   ]
  },
  {
   "cell_type": "code",
   "execution_count": 165,
   "metadata": {},
   "outputs": [
    {
     "name": "stdout",
     "output_type": "stream",
     "text": [
      "{'AcquisitionMatrixPE': 64,\n",
      " 'AcquisitionNumber': 1,\n",
      " 'AcquisitionTime': '15:10:6.000000',\n",
      " 'CoilString': '8HRBRAIN',\n",
      " 'ConversionSoftware': 'dcm2niix',\n",
      " 'ConversionSoftwareVersion': 'v1.0.20181114  MSC1900',\n",
      " 'DeviceSerialNumber': '000000NO1146MR01',\n",
      " 'EchoTime': 0.05,\n",
      " 'EffectiveEchoSpacing': 0.000464,\n",
      " 'FlipAngle': 90,\n",
      " 'ImageOrientationPatientDICOM': [1, 0, 0, 0, 1, 0],\n",
      " 'ImageType': ['ORIGINAL', 'PRIMARY', 'EPI', 'NONE'],\n",
      " 'ImagingFrequency': 63.8442,\n",
      " 'InPlanePhaseEncodingDirectionDICOM': 'COL',\n",
      " 'InstitutionName': 'DS_Haraldsplass',\n",
      " 'MRAcquisitionType': '2D',\n",
      " 'MagneticFieldStrength': 1.5,\n",
      " 'Manufacturer': 'GE',\n",
      " 'ManufacturersModelName': 'SIGNA_EXCITE',\n",
      " 'Modality': 'MR',\n",
      " 'PatientPosition': 'HFS',\n",
      " 'PercentPhaseFOV': 100,\n",
      " 'PhaseEncodingDirection': 'j-',\n",
      " 'PhaseEncodingPolarityGE': 'Unflipped',\n",
      " 'PixelBandwidth': 7812.5,\n",
      " 'ProcedureStepDescription': 'AGING',\n",
      " 'ProtocolName': 'AX_fMRI_GRE_EPI_RESTING',\n",
      " 'ReconMatrixPE': 64,\n",
      " 'RepetitionTime': 2,\n",
      " 'SAR': 0.0235439,\n",
      " 'ScanOptions': 'EPI_GEMS_PFF',\n",
      " 'ScanningSequence': 'EP_GR',\n",
      " 'SequenceVariant': 'SS',\n",
      " 'SeriesDescription': 'AX_fMRI_GRE_EPI_RESTING',\n",
      " 'SeriesNumber': 5,\n",
      " 'SliceThickness': 5,\n",
      " 'SliceTiming': [0.96,\n",
      "                 1.92,\n",
      "                 0.88,\n",
      "                 1.84,\n",
      "                 0.8,\n",
      "                 1.76,\n",
      "                 0.72,\n",
      "                 1.68,\n",
      "                 0.64,\n",
      "                 1.6,\n",
      "                 0.56,\n",
      "                 1.52,\n",
      "                 0.48,\n",
      "                 1.44,\n",
      "                 0.4,\n",
      "                 1.36,\n",
      "                 0.32,\n",
      "                 1.28,\n",
      "                 0.24,\n",
      "                 1.2,\n",
      "                 0.16,\n",
      "                 1.12,\n",
      "                 0.08,\n",
      "                 1.04,\n",
      "                 0],\n",
      " 'SoftwareVersions': '12_LX_MR_Software_release:12.0_M5A_0819.a',\n",
      " 'SpacingBetweenSlices': 5.5,\n",
      " 'StationName': 'GEMSOW',\n",
      " 'TaskName': 'rest',\n",
      " 'TotalReadoutTime': 0.029232}\n"
     ]
    }
   ],
   "source": [
    "pprint(data2)"
   ]
  },
  {
   "cell_type": "code",
   "execution_count": 167,
   "metadata": {},
   "outputs": [
    {
     "name": "stdout",
     "output_type": "stream",
     "text": [
      "{'AcquisitionMatrixPE': 64,\n",
      " 'AcquisitionNumber': 1,\n",
      " 'AcquisitionTime': '11:49:56.000000',\n",
      " 'CoilString': '8HRBRAIN',\n",
      " 'ConversionSoftware': 'dcm2niix',\n",
      " 'ConversionSoftwareVersion': 'v1.0.20181114  MSC1900',\n",
      " 'DeviceSerialNumber': '000000NO1146MR01',\n",
      " 'EchoTime': 0.05,\n",
      " 'EffectiveEchoSpacing': 0.000464,\n",
      " 'FlipAngle': 90,\n",
      " 'ImageOrientationPatientDICOM': [1, 0, 0, 0, 0.978081, -0.208226],\n",
      " 'ImageType': ['ORIGINAL', 'PRIMARY', 'EPI', 'NONE'],\n",
      " 'ImagingFrequency': 63.844,\n",
      " 'InPlanePhaseEncodingDirectionDICOM': 'COL',\n",
      " 'InstitutionName': 'DS_Haraldsplass',\n",
      " 'MRAcquisitionType': '2D',\n",
      " 'MagneticFieldStrength': 1.5,\n",
      " 'Manufacturer': 'GE',\n",
      " 'ManufacturersModelName': 'SIGNA_EXCITE',\n",
      " 'Modality': 'MR',\n",
      " 'PatientPosition': 'HFS',\n",
      " 'PercentPhaseFOV': 100,\n",
      " 'PhaseEncodingDirection': 'j-',\n",
      " 'PhaseEncodingPolarityGE': 'Unflipped',\n",
      " 'PixelBandwidth': 7812.5,\n",
      " 'ProtocolName': 'AX_fMRI_GRE_EPI_RESTING',\n",
      " 'ReconMatrixPE': 64,\n",
      " 'RepetitionTime': 2,\n",
      " 'SAR': 0.0235439,\n",
      " 'ScanOptions': 'EPI_GEMS_PFF',\n",
      " 'ScanningSequence': 'EP_GR',\n",
      " 'SequenceVariant': 'SS',\n",
      " 'SeriesDescription': 'AX_fMRI_GRE_EPI_RESTING',\n",
      " 'SeriesNumber': 5,\n",
      " 'SliceThickness': 5,\n",
      " 'SliceTiming': [0.96,\n",
      "                 1.92,\n",
      "                 0.88,\n",
      "                 1.84,\n",
      "                 0.8,\n",
      "                 1.76,\n",
      "                 0.72,\n",
      "                 1.68,\n",
      "                 0.64,\n",
      "                 1.6,\n",
      "                 0.56,\n",
      "                 1.52,\n",
      "                 0.48,\n",
      "                 1.44,\n",
      "                 0.4,\n",
      "                 1.36,\n",
      "                 0.32,\n",
      "                 1.28,\n",
      "                 0.24,\n",
      "                 1.2,\n",
      "                 0.16,\n",
      "                 1.12,\n",
      "                 0.08,\n",
      "                 1.04,\n",
      "                 0],\n",
      " 'SoftwareVersions': '12_LX_MR_Software_release:12.0_M5B_0846.d',\n",
      " 'SpacingBetweenSlices': 5.5,\n",
      " 'StationName': 'GEMSOW',\n",
      " 'TaskName': 'rest',\n",
      " 'TotalReadoutTime': 0.029232}\n"
     ]
    }
   ],
   "source": [
    "pprint(data3)"
   ]
  },
  {
   "cell_type": "code",
   "execution_count": 168,
   "metadata": {},
   "outputs": [
    {
     "name": "stdout",
     "output_type": "stream",
     "text": [
      "<class 'pandas.core.frame.DataFrame'>\n",
      "RangeIndex: 1 entries, 0 to 0\n",
      "Data columns (total 4 columns):\n",
      "participant_id    1 non-null object\n",
      "gender            1 non-null object\n",
      "age               1 non-null int64\n",
      "group             1 non-null object\n",
      "dtypes: int64(1), object(3)\n",
      "memory usage: 112.0+ bytes\n"
     ]
    }
   ],
   "source": [
    "df = pd.read_csv('%s/participants.tsv' % (myBIDSHOME), delimiter='\\t')\n",
    "df.info()"
   ]
  },
  {
   "cell_type": "code",
   "execution_count": 169,
   "metadata": {},
   "outputs": [
    {
     "data": {
      "text/html": [
       "<div>\n",
       "<style scoped>\n",
       "    .dataframe tbody tr th:only-of-type {\n",
       "        vertical-align: middle;\n",
       "    }\n",
       "\n",
       "    .dataframe tbody tr th {\n",
       "        vertical-align: top;\n",
       "    }\n",
       "\n",
       "    .dataframe thead th {\n",
       "        text-align: right;\n",
       "    }\n",
       "</style>\n",
       "<table border=\"1\" class=\"dataframe\">\n",
       "  <thead>\n",
       "    <tr style=\"text-align: right;\">\n",
       "      <th></th>\n",
       "      <th>participant_id</th>\n",
       "      <th>gender</th>\n",
       "      <th>age</th>\n",
       "      <th>group</th>\n",
       "    </tr>\n",
       "  </thead>\n",
       "  <tbody>\n",
       "    <tr>\n",
       "      <th>0</th>\n",
       "      <td>sub-507</td>\n",
       "      <td>M</td>\n",
       "      <td>27</td>\n",
       "      <td>HC</td>\n",
       "    </tr>\n",
       "  </tbody>\n",
       "</table>\n",
       "</div>"
      ],
      "text/plain": [
       "  participant_id gender  age group\n",
       "0        sub-507      M   27    HC"
      ]
     },
     "execution_count": 169,
     "metadata": {},
     "output_type": "execute_result"
    }
   ],
   "source": [
    "df.head()"
   ]
  },
  {
   "cell_type": "code",
   "execution_count": 38,
   "metadata": {},
   "outputs": [],
   "source": [
    "# data = pd.read_csv('../data/sympt_soup_gender_f_0_m_1_ibs_0_hc_1.csv') "
   ]
  },
  {
   "cell_type": "code",
   "execution_count": 39,
   "metadata": {},
   "outputs": [
    {
     "data": {
      "text/html": [
       "<div>\n",
       "<style scoped>\n",
       "    .dataframe tbody tr th:only-of-type {\n",
       "        vertical-align: middle;\n",
       "    }\n",
       "\n",
       "    .dataframe tbody tr th {\n",
       "        vertical-align: top;\n",
       "    }\n",
       "\n",
       "    .dataframe thead th {\n",
       "        text-align: right;\n",
       "    }\n",
       "</style>\n",
       "<table border=\"1\" class=\"dataframe\">\n",
       "  <thead>\n",
       "    <tr style=\"text-align: right;\">\n",
       "      <th></th>\n",
       "      <th>ID</th>\n",
       "      <th>Gender</th>\n",
       "      <th>Age</th>\n",
       "      <th>Patient</th>\n",
       "      <th>pre.suppe.smerter</th>\n",
       "      <th>pre.suppe.kvalme</th>\n",
       "      <th>pre.suppe.oppfylt</th>\n",
       "      <th>pre.suppe.totalt</th>\n",
       "      <th>pre.suppe.mett</th>\n",
       "      <th>post.suppe.smerter</th>\n",
       "      <th>post.suppe.kvalme</th>\n",
       "      <th>post.suppe.oppfylt</th>\n",
       "      <th>post.suppe.totalt</th>\n",
       "      <th>post.suppe.mett</th>\n",
       "      <th>Antall glass</th>\n",
       "      <th>Unnamed: 15</th>\n",
       "      <th>Unnamed: 16</th>\n",
       "      <th>Unnamed: 17</th>\n",
       "    </tr>\n",
       "  </thead>\n",
       "  <tbody>\n",
       "    <tr>\n",
       "      <th>0</th>\n",
       "      <td>101</td>\n",
       "      <td>1</td>\n",
       "      <td>27</td>\n",
       "      <td>1</td>\n",
       "      <td>0.0</td>\n",
       "      <td>0.0</td>\n",
       "      <td>1.0</td>\n",
       "      <td>1.0</td>\n",
       "      <td>23.0</td>\n",
       "      <td>NaN</td>\n",
       "      <td>NaN</td>\n",
       "      <td>NaN</td>\n",
       "      <td>NaN</td>\n",
       "      <td>NaN</td>\n",
       "      <td>3</td>\n",
       "      <td>NaN</td>\n",
       "      <td>NaN</td>\n",
       "      <td>NaN</td>\n",
       "    </tr>\n",
       "    <tr>\n",
       "      <th>1</th>\n",
       "      <td>102</td>\n",
       "      <td>1</td>\n",
       "      <td>31</td>\n",
       "      <td>1</td>\n",
       "      <td>1.0</td>\n",
       "      <td>1.0</td>\n",
       "      <td>1.0</td>\n",
       "      <td>0.0</td>\n",
       "      <td>0.0</td>\n",
       "      <td>1.0</td>\n",
       "      <td>0.0</td>\n",
       "      <td>19.0</td>\n",
       "      <td>3.0</td>\n",
       "      <td>20.0</td>\n",
       "      <td>3</td>\n",
       "      <td>NaN</td>\n",
       "      <td>NaN</td>\n",
       "      <td>NaN</td>\n",
       "    </tr>\n",
       "    <tr>\n",
       "      <th>2</th>\n",
       "      <td>103</td>\n",
       "      <td>0</td>\n",
       "      <td>26</td>\n",
       "      <td>1</td>\n",
       "      <td>1.0</td>\n",
       "      <td>2.0</td>\n",
       "      <td>2.0</td>\n",
       "      <td>2.0</td>\n",
       "      <td>2.0</td>\n",
       "      <td>1.0</td>\n",
       "      <td>2.0</td>\n",
       "      <td>2.0</td>\n",
       "      <td>2.0</td>\n",
       "      <td>2.0</td>\n",
       "      <td>3</td>\n",
       "      <td>NaN</td>\n",
       "      <td>NaN</td>\n",
       "      <td>NaN</td>\n",
       "    </tr>\n",
       "    <tr>\n",
       "      <th>3</th>\n",
       "      <td>104</td>\n",
       "      <td>0</td>\n",
       "      <td>26</td>\n",
       "      <td>1</td>\n",
       "      <td>0.0</td>\n",
       "      <td>0.0</td>\n",
       "      <td>0.0</td>\n",
       "      <td>0.0</td>\n",
       "      <td>10.0</td>\n",
       "      <td>0.0</td>\n",
       "      <td>0.0</td>\n",
       "      <td>0.0</td>\n",
       "      <td>0.0</td>\n",
       "      <td>18.0</td>\n",
       "      <td>3</td>\n",
       "      <td>NaN</td>\n",
       "      <td>NaN</td>\n",
       "      <td>NaN</td>\n",
       "    </tr>\n",
       "    <tr>\n",
       "      <th>4</th>\n",
       "      <td>105</td>\n",
       "      <td>0</td>\n",
       "      <td>27</td>\n",
       "      <td>1</td>\n",
       "      <td>0.0</td>\n",
       "      <td>0.0</td>\n",
       "      <td>0.0</td>\n",
       "      <td>12.0</td>\n",
       "      <td>0.0</td>\n",
       "      <td>0.0</td>\n",
       "      <td>0.0</td>\n",
       "      <td>36.0</td>\n",
       "      <td>0.0</td>\n",
       "      <td>36.0</td>\n",
       "      <td>3</td>\n",
       "      <td>NaN</td>\n",
       "      <td>NaN</td>\n",
       "      <td>NaN</td>\n",
       "    </tr>\n",
       "  </tbody>\n",
       "</table>\n",
       "</div>"
      ],
      "text/plain": [
       "    ID  Gender  Age  Patient  pre.suppe.smerter  pre.suppe.kvalme  \\\n",
       "0  101       1   27        1                0.0               0.0   \n",
       "1  102       1   31        1                1.0               1.0   \n",
       "2  103       0   26        1                1.0               2.0   \n",
       "3  104       0   26        1                0.0               0.0   \n",
       "4  105       0   27        1                0.0               0.0   \n",
       "\n",
       "   pre.suppe.oppfylt  pre.suppe.totalt  pre.suppe.mett  post.suppe.smerter  \\\n",
       "0                1.0               1.0            23.0                 NaN   \n",
       "1                1.0               0.0             0.0                 1.0   \n",
       "2                2.0               2.0             2.0                 1.0   \n",
       "3                0.0               0.0            10.0                 0.0   \n",
       "4                0.0              12.0             0.0                 0.0   \n",
       "\n",
       "   post.suppe.kvalme  post.suppe.oppfylt  post.suppe.totalt  post.suppe.mett  \\\n",
       "0                NaN                 NaN                NaN              NaN   \n",
       "1                0.0                19.0                3.0             20.0   \n",
       "2                2.0                 2.0                2.0              2.0   \n",
       "3                0.0                 0.0                0.0             18.0   \n",
       "4                0.0                36.0                0.0             36.0   \n",
       "\n",
       "   Antall glass Unnamed: 15  Unnamed: 16  Unnamed: 17  \n",
       "0             3         NaN          NaN          NaN  \n",
       "1             3         NaN          NaN          NaN  \n",
       "2             3         NaN          NaN          NaN  \n",
       "3             3         NaN          NaN          NaN  \n",
       "4             3         NaN          NaN          NaN  "
      ]
     },
     "execution_count": 39,
     "metadata": {},
     "output_type": "execute_result"
    }
   ],
   "source": [
    "# data.head()"
   ]
  },
  {
   "cell_type": "code",
   "execution_count": 170,
   "metadata": {},
   "outputs": [
    {
     "data": {
      "text/html": [
       "<div>\n",
       "<style scoped>\n",
       "    .dataframe tbody tr th:only-of-type {\n",
       "        vertical-align: middle;\n",
       "    }\n",
       "\n",
       "    .dataframe tbody tr th {\n",
       "        vertical-align: top;\n",
       "    }\n",
       "\n",
       "    .dataframe thead th {\n",
       "        text-align: right;\n",
       "    }\n",
       "</style>\n",
       "<table border=\"1\" class=\"dataframe\">\n",
       "  <thead>\n",
       "    <tr style=\"text-align: right;\">\n",
       "      <th></th>\n",
       "      <th>participant_id</th>\n",
       "      <th>gender</th>\n",
       "      <th>age</th>\n",
       "      <th>group</th>\n",
       "    </tr>\n",
       "  </thead>\n",
       "  <tbody>\n",
       "    <tr>\n",
       "      <th>0</th>\n",
       "      <td>sub-507</td>\n",
       "      <td>M</td>\n",
       "      <td>27</td>\n",
       "      <td>HC</td>\n",
       "    </tr>\n",
       "  </tbody>\n",
       "</table>\n",
       "</div>"
      ],
      "text/plain": [
       "  participant_id gender  age group\n",
       "0        sub-507      M   27    HC"
      ]
     },
     "execution_count": 170,
     "metadata": {},
     "output_type": "execute_result"
    }
   ],
   "source": [
    "# participants.tsv\n",
    "df = pd.DataFrame({'participant_id': ['sub-507'],\n",
    "                  'gender': ['M'],\n",
    "                  'age': [27],\n",
    "                  'group': ['HC']})\n",
    "df.head()"
   ]
  },
  {
   "cell_type": "code",
   "execution_count": 41,
   "metadata": {},
   "outputs": [],
   "source": [
    "#df.to_csv('%s/participants.tsv' % (BIDSHOME), sep='\\t', encoding='utf-8', index=False )"
   ]
  },
  {
   "cell_type": "markdown",
   "metadata": {},
   "source": [
    "**Finalk check of BIDS compliance**"
   ]
  },
  {
   "cell_type": "code",
   "execution_count": 171,
   "metadata": {},
   "outputs": [
    {
     "name": "stdout",
     "output_type": "stream",
     "text": [
      "\u001b[32mThis dataset appears to be BIDS compatible.\u001b[39m\n",
      "        \u001b[34m\u001b[4mSummary:\u001b[24m\u001b[39m                  \u001b[34m\u001b[4mAvailable Tasks:\u001b[24m\u001b[39m        \u001b[34m\u001b[4mAvailable Modalities:\u001b[24m\u001b[39m \n",
      "        31 Files, 236.85MB        rest                    /participants         \n",
      "        1 - Subject                                       T1w                   \n",
      "        3 - Sessions                                      dwi                   \n",
      "                                                          bold                  \n",
      "\n",
      "\u001b[37mIf you have any questions please post on https://neurostars.org/tags/bids\u001b[39m\n",
      "\n",
      "\n"
     ]
    }
   ],
   "source": [
    "cmd = 'bids-validator %s --verbose' % myBIDSHOME\n",
    "process = os.popen(cmd)\n",
    "o=process.read()\n",
    "print(o)\n",
    "process.close()"
   ]
  },
  {
   "cell_type": "code",
   "execution_count": 173,
   "metadata": {},
   "outputs": [
    {
     "name": "stdout",
     "output_type": "stream",
     "text": [
      "Folder PATH listing for volume Local Disk\n",
      "Volume serial number is 82A6-EE0C\n",
      "C:\\USERS\\ARVID\\PRJ\\AGING\\MY_BIDS\n",
      "|   dataset_description.json\n",
      "|   participants.json\n",
      "|   participants.tsv\n",
      "|   \n",
      "\\---sub-507\n",
      "    +---ses-01\n",
      "    |   +---anat\n",
      "    |   |       sub-507_ses-01_acq-1_T1w.json\n",
      "    |   |       sub-507_ses-01_acq-1_T1w.nii.gz\n",
      "    |   |       sub-507_ses-01_acq-2_T1w.json\n",
      "    |   |       sub-507_ses-01_acq-2_T1w.nii.gz\n",
      "    |   |       \n",
      "    |   \\---dwi\n",
      "    |           sub-507_ses-01_dwi.bval\n",
      "    |           sub-507_ses-01_dwi.bvec\n",
      "    |           sub-507_ses-01_dwi.json\n",
      "    |           sub-507_ses-01_dwi.nii.gz\n",
      "    |           \n",
      "    +---ses-02\n",
      "    |   +---anat\n",
      "    |   |       sub-507_ses-02_acq-1_T1w.json\n",
      "    |   |       sub-507_ses-02_acq-1_T1w.nii.gz\n",
      "    |   |       sub-507_ses-02_acq-2_T1w.json\n",
      "    |   |       sub-507_ses-02_acq-2_T1w.nii.gz\n",
      "    |   |       \n",
      "    |   +---dwi\n",
      "    |   |       sub-507_ses-02_dwi.bval\n",
      "    |   |       sub-507_ses-02_dwi.bvec\n",
      "    |   |       sub-507_ses-02_dwi.json\n",
      "    |   |       sub-507_ses-02_dwi.nii.gz\n",
      "    |   |       \n",
      "    |   \\---func\n",
      "    |           sub-507_ses-02_task-rest_bold.json\n",
      "    |           sub-507_ses-02_task-rest_bold.nii.gz\n",
      "    |           \n",
      "    \\---ses-03\n",
      "        +---anat\n",
      "        |       sub-507_ses-03_acq-1_T1w.json\n",
      "        |       sub-507_ses-03_acq-1_T1w.nii.gz\n",
      "        |       sub-507_ses-03_acq-2_T1w.json\n",
      "        |       sub-507_ses-03_acq-2_T1w.nii.gz\n",
      "        |       \n",
      "        +---dwi\n",
      "        |       sub-507_ses-03_dwi.bval\n",
      "        |       sub-507_ses-03_dwi.bvec\n",
      "        |       sub-507_ses-03_dwi.json\n",
      "        |       sub-507_ses-03_dwi.nii.gz\n",
      "        |       \n",
      "        \\---func\n",
      "                sub-507_ses-03_task-rest_bold.json\n",
      "                sub-507_ses-03_task-rest_bold.nii.gz\n",
      "                \n",
      "\n"
     ]
    }
   ],
   "source": [
    "# cmd = 'tree %s ' % (myBIDSHOME)\n",
    "cmd = 'tree %s /f /a' % (myBIDSHOME)\n",
    "process = os.popen(cmd)\n",
    "o=process.read()\n",
    "print(o)\n",
    "process.close()"
   ]
  },
  {
   "cell_type": "markdown",
   "metadata": {},
   "source": [
    "**Inspect images**"
   ]
  },
  {
   "cell_type": "code",
   "execution_count": 44,
   "metadata": {},
   "outputs": [],
   "source": [
    "# freeview -v ./sub-101/ses-1/anat/sub-101_ses-1_T1w.nii.gz ./sub-101/ses-1/func/sub-101_ses-1_task-rest_bold.nii.gz"
   ]
  },
  {
   "cell_type": "code",
   "execution_count": 174,
   "metadata": {},
   "outputs": [],
   "source": [
    "anat_fn2 = myBIDSHOME+'/sub-507/ses-02/anat/sub-507_ses-02_acq-1_T1w.nii.gz'\n",
    "func_fn2 = myBIDSHOME+'/sub-507/ses-02/func/sub-507_ses-02_task-rest_bold.nii.gz'\n",
    "anat_fn3 = myBIDSHOME+'/sub-507/ses-03/anat/sub-507_ses-03_acq-2_T1w.nii.gz'\n",
    "func_fn3 = myBIDSHOME+'/sub-507/ses-03/func/sub-507_ses-03_task-rest_bold.nii.gz'"
   ]
  },
  {
   "cell_type": "code",
   "execution_count": 175,
   "metadata": {},
   "outputs": [
    {
     "name": "stderr",
     "output_type": "stream",
     "text": [
      "C:\\Users\\arvid\\Anaconda3\\lib\\site-packages\\scipy\\ndimage\\measurements.py:272: DeprecationWarning: In future, it will be an error for 'np.bool_' scalars to be interpreted as an index\n",
      "  return _nd_image.find_objects(input, max_label)\n"
     ]
    },
    {
     "data": {
      "text/plain": [
       "<nilearn.plotting.displays.OrthoSlicer at 0x202d6886710>"
      ]
     },
     "execution_count": 175,
     "metadata": {},
     "output_type": "execute_result"
    },
    {
     "data": {
      "image/png": "[encoded data removed]",
      "text/plain": [
       "<Figure size 475.2x187.2 with 4 Axes>"
      ]
     },
     "metadata": {},
     "output_type": "display_data"
    }
   ],
   "source": [
    "# inspect the resulting NIFTI file using plotting from nilearn\n",
    "plotting.plot_anat(anat_fn2, title=\"sub-507_ses-02_acq-1_T1w.nii.gz\")"
   ]
  },
  {
   "cell_type": "code",
   "execution_count": 176,
   "metadata": {},
   "outputs": [
    {
     "name": "stdout",
     "output_type": "stream",
     "text": [
      "(124, 256, 256)\n"
     ]
    }
   ],
   "source": [
    "print(image.load_img(anat_fn2).shape)"
   ]
  },
  {
   "cell_type": "code",
   "execution_count": 177,
   "metadata": {},
   "outputs": [
    {
     "name": "stdout",
     "output_type": "stream",
     "text": [
      "(124, 256, 256)\n"
     ]
    }
   ],
   "source": [
    "# using nibabel\n",
    "img = nib.load(anat_fn2)\n",
    "data = img.get_data()\n",
    "print(data.shape)"
   ]
  },
  {
   "cell_type": "code",
   "execution_count": 178,
   "metadata": {},
   "outputs": [
    {
     "name": "stdout",
     "output_type": "stream",
     "text": [
      "(1.4, 0.9375, 0.9375)\n"
     ]
    }
   ],
   "source": [
    "# check the dimensions of each voxel\n",
    "print(img.header.get_zooms()[:3])"
   ]
  },
  {
   "cell_type": "code",
   "execution_count": 179,
   "metadata": {},
   "outputs": [
    {
     "data": {
      "image/png": "[encoded data removed]",
      "text/plain": [
       "<Figure size 432x288 with 3 Axes>"
      ]
     },
     "metadata": {
      "needs_background": "light"
     },
     "output_type": "display_data"
    }
   ],
   "source": [
    "# show here the middle axial slices of 3D T1 image +/- offset slices\n",
    "offset = 40\n",
    "axial_middle = data.shape[2] // 2\n",
    "plt.figure('Showing the dataset')\n",
    "plt.subplot(1, 3, 1).set_axis_off()\n",
    "plt.imshow(data[:, :, axial_middle - offset].T, cmap='gray', origin='lower')\n",
    "plt.subplot(1, 3, 2).set_axis_off()\n",
    "plt.imshow(data[:, :, axial_middle].T, cmap='gray', origin='lower')\n",
    "plt.subplot(1, 3, 3).set_axis_off()\n",
    "plt.imshow(data[:, :, axial_middle + offset].T, cmap='gray', origin='lower')\n",
    "plt.show()"
   ]
  },
  {
   "cell_type": "code",
   "execution_count": 180,
   "metadata": {},
   "outputs": [
    {
     "name": "stdout",
     "output_type": "stream",
     "text": [
      "<class 'nibabel.nifti1.Nifti1Header'> object, endian='<'\n",
      "sizeof_hdr      : 348\n",
      "data_type       : b''\n",
      "db_name         : b''\n",
      "extents         : 0\n",
      "session_error   : 0\n",
      "regular         : b'r'\n",
      "dim_info        : 54\n",
      "dim             : [  3 124 256 256   1   1   1   1]\n",
      "intent_p1       : 0.0\n",
      "intent_p2       : 0.0\n",
      "intent_p3       : 0.0\n",
      "intent_code     : none\n",
      "datatype        : int16\n",
      "bitpix          : 16\n",
      "slice_start     : 0\n",
      "pixdim          : [1.       1.4      0.9375   0.9375   0.009116 0.       0.       0.      ]\n",
      "vox_offset      : 0.0\n",
      "scl_slope       : nan\n",
      "scl_inter       : nan\n",
      "slice_end       : 0\n",
      "slice_code      : unknown\n",
      "xyzt_units      : 10\n",
      "cal_max         : 0.0\n",
      "cal_min         : 0.0\n",
      "slice_duration  : 0.0\n",
      "toffset         : 0.0\n",
      "glmax           : 0\n",
      "glmin           : 0\n",
      "descrip         : b'TE=1.8;Time=144654.000'\n",
      "aux_file        : b''\n",
      "qform_code      : scanner\n",
      "sform_code      : scanner\n",
      "quatern_b       : 0.0\n",
      "quatern_c       : 0.0\n",
      "quatern_d       : 0.0\n",
      "qoffset_x       : -82.8928\n",
      "qoffset_y       : -89.065506\n",
      "qoffset_z       : -100.5435\n",
      "srow_x          : [  1.4000015   0.          0.        -82.8928   ]\n",
      "srow_y          : [  0.         0.9375     0.       -89.065506]\n",
      "srow_z          : [   0.        0.        0.9375 -100.5435]\n",
      "intent_name     : b''\n",
      "magic           : b'n+1'\n"
     ]
    }
   ],
   "source": [
    "# print the full nifti header\n",
    "print(img.header)"
   ]
  },
  {
   "cell_type": "code",
   "execution_count": 181,
   "metadata": {},
   "outputs": [
    {
     "name": "stderr",
     "output_type": "stream",
     "text": [
      "<>:10: DeprecationWarning: invalid escape sequence \\m\n"
     ]
    },
    {
     "data": {
      "image/png": "[encoded data removed]",
      "text/plain": [
       "<Figure size 432x288 with 1 Axes>"
      ]
     },
     "metadata": {
      "needs_background": "light"
     },
     "output_type": "display_data"
    }
   ],
   "source": [
    "# the histogram of the 3D T1 data\n",
    "\n",
    "x = data.flatten()\n",
    "m, bins, patches = plt.hist(x, 50, density=True, facecolor='b', alpha=0.75)\n",
    "\n",
    "mn = np.min(x)\n",
    "mx = np.max(x)\n",
    "mu = np.mean(x)\n",
    "s = np.std(x)\n",
    "txt = 'min=%d, $\\mu$=%0.2f ($\\sigma$=%0.2f), max=%d' % (mn, mu, s, mx)\n",
    "plt.xlabel('Signal intensity')\n",
    "plt.ylabel('Probability')\n",
    "plt.title('Histogram of 3D T1 data')\n",
    "plt.text(5000, .0005, txt)\n",
    "plt.grid(True)\n",
    "plt.show()"
   ]
  },
  {
   "cell_type": "code",
   "execution_count": null,
   "metadata": {},
   "outputs": [],
   "source": []
  }
 ],
 "metadata": {
  "kernelspec": {
   "display_name": "BMED360",
   "language": "python",
   "name": "bmed360"
  },
  "language_info": {
   "codemirror_mode": {
    "name": "ipython",
    "version": 3
   },
   "file_extension": ".py",
   "mimetype": "text/x-python",
   "name": "python",
   "nbconvert_exporter": "python",
   "pygments_lexer": "ipython3",
   "version": "3.6.7"
  },
  "latex_envs": {
   "LaTeX_envs_menu_present": true,
   "autoclose": false,
   "autocomplete": true,
   "bibliofile": "biblio.bib",
   "cite_by": "apalike",
   "current_citInitial": 1,
   "eqLabelWithNumbers": true,
   "eqNumInitial": 1,
   "hotkeys": {
    "equation": "Ctrl-E",
    "itemize": "Ctrl-I"
   },
   "labels_anchors": false,
   "latex_user_defs": false,
   "report_style_numbering": false,
   "user_envs_cfg": false
  },
  "toc": {
   "base_numbering": 1,
   "nav_menu": {
    "height": "58px",
    "width": "169px"
   },
   "number_sections": false,
   "sideBar": true,
   "skip_h1_title": false,
   "title_cell": "Table of Contents",
   "title_sidebar": "Contents",
   "toc_cell": false,
   "toc_position": {},
   "toc_section_display": false,
   "toc_window_display": false
  }
 },
 "nbformat": 4,
 "nbformat_minor": 2
}
